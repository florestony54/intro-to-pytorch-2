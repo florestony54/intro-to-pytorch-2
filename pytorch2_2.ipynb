{
  "cells": [
    {
      "cell_type": "code",
      "execution_count": null,
      "id": "dc67d65e-70ec-46bb-bc15-9e46fe9b9b21",
      "metadata": {
        "id": "dc67d65e-70ec-46bb-bc15-9e46fe9b9b21"
      },
      "outputs": [],
      "source": [
        "import torch\n",
        "from torch import nn\n",
        "from torch.utils.data import DataLoader\n",
        "from torchvision.utils import make_grid\n",
        "from torchvision.datasets import CIFAR10\n",
        "from torchvision import transforms\n",
        "from torchvision import utils\n",
        "from torchvision.utils import make_grid\n",
        "import matplotlib.pyplot as plt\n",
        "import numpy as np\n",
        "import seaborn as sns\n",
        "import pandas as pd"
      ]
    },
    {
      "cell_type": "code",
      "execution_count": null,
      "id": "6c2fb16f-7851-4475-8f4e-3c01f2ee98f5",
      "metadata": {
        "colab": {
          "base_uri": "https://localhost:8080/",
          "height": 35
        },
        "id": "6c2fb16f-7851-4475-8f4e-3c01f2ee98f5",
        "outputId": "a0531fe5-04e5-4094-e8fd-bec57e2f2e52"
      },
      "outputs": [
        {
          "data": {
            "text/plain": [
              "'NVIDIA GeForce RTX 3070'"
            ]
          },
          "execution_count": 2,
          "metadata": {},
          "output_type": "execute_result"
        }
      ],
      "source": [
        "torch.cuda.get_device_name(0)"
      ]
    },
    {
      "cell_type": "code",
      "execution_count": null,
      "id": "7c5db6a1-43db-418c-9ce1-c16510cef0e0",
      "metadata": {
        "colab": {
          "base_uri": "https://localhost:8080/"
        },
        "id": "7c5db6a1-43db-418c-9ce1-c16510cef0e0",
        "outputId": "84c0a639-2b1e-44ad-f6e1-a4ab71960e73"
      },
      "outputs": [
        {
          "output_type": "stream",
          "name": "stdout",
          "text": [
            "cuda\n"
          ]
        }
      ],
      "source": [
        "device = \"cuda\" if torch.cuda.is_available() else \"cpu\"\n",
        "print(device)"
      ]
    },
    {
      "cell_type": "markdown",
      "id": "1ZonpfTgJPKY",
      "metadata": {
        "id": "1ZonpfTgJPKY"
      },
      "source": [
        "# Seed the RNG for all devices"
      ]
    },
    {
      "cell_type": "code",
      "execution_count": null,
      "id": "SOJ0RMAyJELQ",
      "metadata": {
        "colab": {
          "base_uri": "https://localhost:8080/"
        },
        "id": "SOJ0RMAyJELQ",
        "outputId": "4cd081fe-cda9-4457-f684-fe4ab24c31f0"
      },
      "outputs": [
        {
          "output_type": "execute_result",
          "data": {
            "text/plain": [
              "<torch._C.Generator at 0x7f01847ddfb0>"
            ]
          },
          "metadata": {},
          "execution_count": 3
        }
      ],
      "source": [
        "torch.manual_seed(42)"
      ]
    },
    {
      "cell_type": "code",
      "execution_count": null,
      "id": "cee7bb3b-5150-45ac-a3e1-762f1644a564",
      "metadata": {
        "id": "cee7bb3b-5150-45ac-a3e1-762f1644a564"
      },
      "outputs": [],
      "source": [
        "transform = transforms.Compose(\n",
        "    [transforms.ToTensor(),\n",
        "     transforms.Normalize((0.5, 0.5, 0.5), (0.5, 0.5, 0.5))]\n",
        ")"
      ]
    },
    {
      "cell_type": "code",
      "execution_count": null,
      "id": "84a2736e-b4ad-491b-8042-dcce43be0766",
      "metadata": {
        "colab": {
          "base_uri": "https://localhost:8080/",
          "height": 103,
          "referenced_widgets": [
            "780d822439f34fba967705fca54a5109",
            "950cd660e21f48088494a10a81fa201a",
            "3895c272b2fa4b4e914d491265183e8f",
            "aeae0d0d507c427e9a18ee08a8b9f692",
            "736dac85ec2d4d7697308a7978380d6d",
            "16e661a0213f49e58235fb06999bc03c",
            "821eaa26be7a464ebe6b145489dd402d",
            "b1c987267e1748dc94e1e8f870b4002a",
            "6001db9b4db74a47b88aef73bc7cb602",
            "b161fb98c42043ecb18a6fb515cd92d1",
            "934a88a35d9e4793b088fb109a6c3615"
          ]
        },
        "id": "84a2736e-b4ad-491b-8042-dcce43be0766",
        "outputId": "bf726a0d-6c9f-4900-e4f3-67d14a59c7e1"
      },
      "outputs": [
        {
          "output_type": "stream",
          "name": "stdout",
          "text": [
            "Downloading https://www.cs.toronto.edu/~kriz/cifar-10-python.tar.gz to cifar/cifar-10-python.tar.gz\n"
          ]
        },
        {
          "output_type": "display_data",
          "data": {
            "text/plain": [
              "  0%|          | 0/170498071 [00:00<?, ?it/s]"
            ],
            "application/vnd.jupyter.widget-view+json": {
              "version_major": 2,
              "version_minor": 0,
              "model_id": "780d822439f34fba967705fca54a5109"
            }
          },
          "metadata": {}
        },
        {
          "output_type": "stream",
          "name": "stdout",
          "text": [
            "Extracting cifar/cifar-10-python.tar.gz to cifar\n",
            "Files already downloaded and verified\n"
          ]
        }
      ],
      "source": [
        "training_data = CIFAR10(root=\"cifar\",\n",
        "                        train = True,\n",
        "                        download = True,\n",
        "                        transform=transform)\n",
        "\n",
        "test_data = CIFAR10(root = \"cifar\",\n",
        "                    train = False,\n",
        "                    download = True,\n",
        "                    transform = transform)"
      ]
    },
    {
      "cell_type": "code",
      "execution_count": null,
      "id": "5c1ad19a-fa7f-4f57-9c90-1cf7a56143d1",
      "metadata": {
        "id": "5c1ad19a-fa7f-4f57-9c90-1cf7a56143d1"
      },
      "outputs": [],
      "source": [
        "classes = training_data.classes"
      ]
    },
    {
      "cell_type": "code",
      "execution_count": null,
      "id": "113dae7f-94ca-459c-a4ba-fd89eea7aa17",
      "metadata": {
        "colab": {
          "base_uri": "https://localhost:8080/"
        },
        "id": "113dae7f-94ca-459c-a4ba-fd89eea7aa17",
        "outputId": "3a6f4f2d-c8c7-4e0f-d5a2-cbffec82aae4"
      },
      "outputs": [
        {
          "output_type": "execute_result",
          "data": {
            "text/plain": [
              "['airplane',\n",
              " 'automobile',\n",
              " 'bird',\n",
              " 'cat',\n",
              " 'deer',\n",
              " 'dog',\n",
              " 'frog',\n",
              " 'horse',\n",
              " 'ship',\n",
              " 'truck']"
            ]
          },
          "metadata": {},
          "execution_count": 7
        }
      ],
      "source": [
        "training_data.classes"
      ]
    },
    {
      "cell_type": "code",
      "execution_count": null,
      "id": "243ede12-cc3f-43a7-b9f1-043efc51fba3",
      "metadata": {
        "colab": {
          "base_uri": "https://localhost:8080/"
        },
        "id": "243ede12-cc3f-43a7-b9f1-043efc51fba3",
        "outputId": "ba2c932a-9a1d-4750-e152-2609a1858c26"
      },
      "outputs": [
        {
          "output_type": "stream",
          "name": "stdout",
          "text": [
            "Shape of X [N, C, H, W]: torch.Size([24, 3, 32, 32])\n",
            "Shape of y: torch.Size([24]) torch.int64\n"
          ]
        }
      ],
      "source": [
        "batch_size = 24\n",
        "\n",
        "# if __name__ == '__main__' and '__file__' in globals(): # Gets num_workers to run on Win10\n",
        "train_dataloader = DataLoader(training_data, batch_size=batch_size, shuffle=True, num_workers=0)\n",
        "test_dataloader = DataLoader(test_data, batch_size=batch_size, shuffle=True, num_workers=0)\n",
        "\n",
        "for X, y in train_dataloader:\n",
        "  print(f\"Shape of X [N, C, H, W]: {X.shape}\")\n",
        "  print(f\"Shape of y: {y.shape} {y.dtype}\")\n",
        "  break"
      ]
    },
    {
      "cell_type": "code",
      "execution_count": null,
      "id": "97a2f5c8-9ebf-49d4-bde9-d30f5fef2418",
      "metadata": {
        "tags": [],
        "id": "97a2f5c8-9ebf-49d4-bde9-d30f5fef2418"
      },
      "outputs": [],
      "source": [
        "class ConvNet(nn.Module):\n",
        "  def __init__(self, l1=256, c1=48, c2=96, d1=0.1):\n",
        "    super().__init__()\n",
        "    self.d1 = 0.1\n",
        "    self.conv1 = nn.Conv2d(3, 48, 3)\n",
        "    self.conv2 = nn.Conv2d(48, 48, 3)\n",
        "    self.conv3 = nn.Conv2d(48, 96, 3)\n",
        "    self.conv4 = nn.Conv2d(96, 96, 3, stride=2)\n",
        "    self.flat = nn.Flatten()\n",
        "    self.batch_norm = nn.BatchNorm1d(96 * 144)\n",
        "    self.fc1 = nn.Linear(96 * 144, 256)\n",
        "    self.fc2 = nn.Linear(256, 10)\n",
        "\n",
        "  def forward(self, x):\n",
        "    x = nn.functional.relu(self.conv1(x))\n",
        "    x = nn.functional.relu(self.conv2(x))\n",
        "    x = nn.functional.dropout(x, self.d1)\n",
        "    x = nn.functional.relu(self.conv3(x))\n",
        "    x = nn.functional.relu(self.conv4(x))\n",
        "    x = nn.functional.dropout(x, 0.5)\n",
        "    x = self.flat(x)\n",
        "    x = nn.functional.relu(self.batch_norm(x))\n",
        "    x = nn.functional.relu(self.fc1(x))\n",
        "    x = self.fc2(x)\n",
        "    return x\n",
        "\n",
        "model = ConvNet().to(device)"
      ]
    },
    {
      "cell_type": "code",
      "execution_count": null,
      "id": "476d0546-3a9f-4950-9f16-691410c21914",
      "metadata": {
        "id": "476d0546-3a9f-4950-9f16-691410c21914"
      },
      "outputs": [],
      "source": [
        "# Train Method\n",
        "def train(dataloader, model, loss_fn, optimizer, verbose=True):\n",
        "    size = len(dataloader.dataset)\n",
        "    model.train()\n",
        "    for batch, (X, y) in enumerate(dataloader):\n",
        "        X, y = X.to(device), y.to(device)\n",
        "\n",
        "        # Compute prediction error\n",
        "        pred = model(X)\n",
        "        loss = loss_fn(pred, y)\n",
        "\n",
        "        # Backpropagation\n",
        "        optimizer.zero_grad()\n",
        "        loss.backward()\n",
        "        optimizer.step()\n",
        "        if verbose == True:\n",
        "          if batch % 50 == 0:\n",
        "              loss, current = loss.item(), batch * len(X)\n",
        "              print(f\"loss: {loss:>7f}  [{current:>5d}/{size:>5d}]\")\n",
        "    return loss"
      ]
    },
    {
      "cell_type": "code",
      "execution_count": null,
      "id": "0dbdf73f-da73-4e3b-b006-a9934890ec5e",
      "metadata": {
        "id": "0dbdf73f-da73-4e3b-b006-a9934890ec5e"
      },
      "outputs": [],
      "source": [
        "# Test Method\n",
        "def test(dataloader, model, loss_fn, verbose=True):\n",
        "    size = len(dataloader.dataset)\n",
        "    num_batches = len(dataloader)\n",
        "    model.eval()\n",
        "    test_loss, correct = 0, 0\n",
        "    with torch.no_grad():\n",
        "        for X, y in dataloader:\n",
        "            X, y = X.to(device), y.to(device)\n",
        "            pred = model(X)\n",
        "            test_loss += loss_fn(pred, y).item()\n",
        "            correct += (pred.argmax(1) == y).type(torch.float).sum().item()\n",
        "    test_loss /= num_batches\n",
        "    correct /= size\n",
        "    if verbose == True:\n",
        "        print(f\"Test Error: \\n Accuracy: {(100*correct):>0.1f}%, Avg loss: {test_loss:>8f} \\n\")\n",
        "    return test_loss, correct # For reporting tuning results/ early stopping"
      ]
    },
    {
      "cell_type": "code",
      "execution_count": null,
      "id": "5244ee4e-7394-4377-81e2-8601795369fd",
      "metadata": {
        "id": "5244ee4e-7394-4377-81e2-8601795369fd"
      },
      "outputs": [],
      "source": [
        "loss_fn = nn.CrossEntropyLoss()\n",
        "optimizer = torch.optim.Adam(model.parameters(), lr=0.001)"
      ]
    },
    {
      "cell_type": "code",
      "execution_count": null,
      "id": "43e7328c-e1d2-4f48-921c-d6b54f1d3198",
      "metadata": {
        "id": "43e7328c-e1d2-4f48-921c-d6b54f1d3198",
        "tags": []
      },
      "outputs": [],
      "source": [
        "epochs = 10\n",
        "for t in range(epochs):\n",
        "    print(f\"Epoch {t+1}\\n-------------------------------\")\n",
        "    train(train_dataloader, model, loss_fn, optimizer)\n",
        "    test(test_dataloader, model, loss_fn)\n",
        "print(\"Done!\")"
      ]
    },
    {
      "cell_type": "markdown",
      "id": "0136640a-8fd0-429a-b0a6-32fcd813f002",
      "metadata": {
        "id": "0136640a-8fd0-429a-b0a6-32fcd813f002"
      },
      "source": [
        "# Visualizing Filters"
      ]
    },
    {
      "cell_type": "code",
      "execution_count": null,
      "id": "547b6c80-85df-4368-b6b9-70de2a41da80",
      "metadata": {
        "id": "547b6c80-85df-4368-b6b9-70de2a41da80"
      },
      "outputs": [],
      "source": [
        "def visualizeTensor(tensor, ch=0, all_kernels=False, nrow=8, padding=1): \n",
        "    n,c,w,h = tensor.shape\n",
        "\n",
        "    if all_kernels: \n",
        "        tensor = tensor.view(n*c, -1, w, h)\n",
        "    elif c != 3: \n",
        "        tensor = tensor[:,ch,:,:].unsqueeze(dim=1)\n",
        "\n",
        "    rows = np.min((tensor.shape[0] // nrow + 1, 64))    \n",
        "    grid = utils.make_grid(tensor, \n",
        "                           nrow=nrow, \n",
        "                           normalize=True, \n",
        "                           padding=padding)\n",
        "    grid = grid.cpu() # back to cpu for numpy and plotting\n",
        "    plt.figure( figsize=(nrow,rows) )\n",
        "    plt.imshow(grid.numpy().transpose((1, 2, 0)))"
      ]
    },
    {
      "cell_type": "markdown",
      "id": "07ad6685-4b86-45c6-9751-9ca2da444337",
      "metadata": {
        "id": "07ad6685-4b86-45c6-9751-9ca2da444337"
      },
      "source": [
        "### Getting the weights for the first convolutional layer"
      ]
    },
    {
      "cell_type": "code",
      "execution_count": null,
      "id": "6e9511a9-6524-482c-8079-10006338d017",
      "metadata": {
        "id": "6e9511a9-6524-482c-8079-10006338d017",
        "outputId": "2514d642-03ad-41bd-b042-c5785ef020e6"
      },
      "outputs": [
        {
          "data": {
            "text/plain": [
              "<function matplotlib.pyplot.show(*args, **kw)>"
            ]
          },
          "execution_count": 39,
          "metadata": {},
          "output_type": "execute_result"
        },
        {
          "data": {
            "image/png": "[encoded data removed]",
            "text/plain": [
              "<Figure size 576x504 with 1 Axes>"
            ]
          },
          "metadata": {
            "needs_background": "light"
          },
          "output_type": "display_data"
        }
      ],
      "source": [
        "filter = model.conv1.weight.data.clone()\n",
        "visualizeTensor(filter)\n",
        "plt.axis('off')\n",
        "plt.ioff()\n",
        "plt.show"
      ]
    },
    {
      "cell_type": "code",
      "execution_count": null,
      "id": "e9571571-fdfc-412b-a71e-32e0e5da931d",
      "metadata": {
        "id": "e9571571-fdfc-412b-a71e-32e0e5da931d"
      },
      "outputs": [],
      "source": [
        "class ConvNet(nn.Module):\n",
        "  def __init__(self, l1=256, c1=48, c2=96, d1=0.1):\n",
        "    super().__init__()\n",
        "    self.d1 = 0.1\n",
        "    self.conv1 = nn.Conv2d(3, 48, 5) # New Kernel Size\n",
        "    self.conv2 = nn.Conv2d(48, 48, 3)\n",
        "    self.conv3 = nn.Conv2d(48, 96, 3)\n",
        "    self.conv4 = nn.Conv2d(96, 96, 3, stride=2)\n",
        "    self.flat = nn.Flatten()\n",
        "    self.batch_norm = nn.BatchNorm1d(96 * 121)\n",
        "    self.fc1 = nn.Linear(96 * 121, 256)\n",
        "    self.fc2 = nn.Linear(256, 10)\n",
        "\n",
        "  def forward(self, x):\n",
        "    x = nn.functional.relu(self.conv1(x))\n",
        "    x = nn.functional.relu(self.conv2(x))\n",
        "    x = nn.functional.dropout(x, self.d1)\n",
        "    x = nn.functional.relu(self.conv3(x))\n",
        "    x = nn.functional.relu(self.conv4(x))\n",
        "    x = nn.functional.dropout(x, 0.5)\n",
        "    x = self.flat(x)\n",
        "    x = nn.functional.relu(self.batch_norm(x))\n",
        "    x = nn.functional.relu(self.fc1(x))\n",
        "    x = self.fc2(x)\n",
        "    return x\n",
        "\n",
        "model = ConvNet().to(device)"
      ]
    },
    {
      "cell_type": "code",
      "execution_count": null,
      "id": "b454eb56-552c-400e-b9d7-8dcb2f595caf",
      "metadata": {
        "id": "b454eb56-552c-400e-b9d7-8dcb2f595caf"
      },
      "outputs": [],
      "source": [
        "loss_fn = nn.CrossEntropyLoss()\n",
        "optimizer = torch.optim.Adam(model.parameters(), lr=0.001)"
      ]
    },
    {
      "cell_type": "markdown",
      "id": "b40add76-2e4e-45a3-babb-3299ab868a6a",
      "metadata": {
        "id": "b40add76-2e4e-45a3-babb-3299ab868a6a"
      },
      "source": [
        "# Saving Model"
      ]
    },
    {
      "cell_type": "code",
      "execution_count": null,
      "id": "b6dbea6b-84b3-4f33-8f58-317bf8f91f80",
      "metadata": {
        "id": "b6dbea6b-84b3-4f33-8f58-317bf8f91f80"
      },
      "outputs": [],
      "source": [
        "torch.save(model.state_dict(), \"cifar_conv.pth\")"
      ]
    },
    {
      "cell_type": "code",
      "execution_count": null,
      "id": "122d2f06-0a4a-4386-96be-e38bade1d1c8",
      "metadata": {
        "id": "122d2f06-0a4a-4386-96be-e38bade1d1c8"
      },
      "outputs": [],
      "source": [
        "model = ConvNet()\n",
        "model.load_state_dict(torch.load(\"cifar_conv.pth\"))"
      ]
    },
    {
      "cell_type": "markdown",
      "id": "d8f19a84-6b2c-4e9e-88b9-df52217e0e64",
      "metadata": {
        "id": "d8f19a84-6b2c-4e9e-88b9-df52217e0e64"
      },
      "source": [
        "### Visualizing 5x5 filters"
      ]
    },
    {
      "cell_type": "code",
      "execution_count": null,
      "id": "d6fa4225-5732-4513-8bbc-04038e9a5622",
      "metadata": {
        "collapsed": true,
        "jupyter": {
          "outputs_hidden": true
        },
        "tags": [],
        "id": "d6fa4225-5732-4513-8bbc-04038e9a5622",
        "outputId": "b34c7f31-b468-49df-8160-b5f3e9295178"
      },
      "outputs": [
        {
          "name": "stdout",
          "output_type": "stream",
          "text": [
            "Epoch 1\n",
            "-------------------------------\n",
            "loss: 2.335602  [    0/50000]\n",
            "loss: 1.641717  [12000/50000]\n",
            "loss: 1.307958  [24000/50000]\n",
            "loss: 1.523668  [36000/50000]\n",
            "loss: 1.512978  [48000/50000]\n",
            "Test Error: \n",
            " Accuracy: 41.3%, Avg loss: 1.962583 \n",
            "\n",
            "Epoch 2\n",
            "-------------------------------\n",
            "loss: 2.165060  [    0/50000]\n",
            "loss: 1.179613  [12000/50000]\n",
            "loss: 1.537408  [24000/50000]\n",
            "loss: 1.522488  [36000/50000]\n",
            "loss: 1.651891  [48000/50000]\n",
            "Test Error: \n",
            " Accuracy: 41.9%, Avg loss: 1.615539 \n",
            "\n",
            "Epoch 3\n",
            "-------------------------------\n",
            "loss: 1.649027  [    0/50000]\n",
            "loss: 1.054994  [12000/50000]\n",
            "loss: 1.406232  [24000/50000]\n",
            "loss: 1.497842  [36000/50000]\n",
            "loss: 1.244770  [48000/50000]\n",
            "Test Error: \n",
            " Accuracy: 47.5%, Avg loss: 1.470345 \n",
            "\n",
            "Epoch 4\n",
            "-------------------------------\n",
            "loss: 1.744670  [    0/50000]\n",
            "loss: 1.324304  [12000/50000]\n",
            "loss: 1.355288  [24000/50000]\n",
            "loss: 1.457836  [36000/50000]\n",
            "loss: 1.274979  [48000/50000]\n",
            "Test Error: \n",
            " Accuracy: 50.2%, Avg loss: 10.053359 \n",
            "\n",
            "Epoch 5\n",
            "-------------------------------\n",
            "loss: 1.156928  [    0/50000]\n",
            "loss: 1.553324  [12000/50000]\n",
            "loss: 1.002111  [24000/50000]\n",
            "loss: 1.432381  [36000/50000]\n",
            "loss: 1.353770  [48000/50000]\n",
            "Test Error: \n",
            " Accuracy: 50.3%, Avg loss: 7.191657 \n",
            "\n",
            "Epoch 6\n",
            "-------------------------------\n",
            "loss: 1.447778  [    0/50000]\n",
            "loss: 1.278113  [12000/50000]\n",
            "loss: 2.177239  [24000/50000]\n",
            "loss: 1.057877  [36000/50000]\n",
            "loss: 1.067324  [48000/50000]\n",
            "Test Error: \n",
            " Accuracy: 54.5%, Avg loss: 2.685147 \n",
            "\n",
            "Epoch 7\n",
            "-------------------------------\n",
            "loss: 0.911728  [    0/50000]\n",
            "loss: 1.336624  [12000/50000]\n",
            "loss: 1.354951  [24000/50000]\n",
            "loss: 1.019517  [36000/50000]\n",
            "loss: 0.938733  [48000/50000]\n",
            "Test Error: \n",
            " Accuracy: 55.9%, Avg loss: 1.500478 \n",
            "\n",
            "Epoch 8\n",
            "-------------------------------\n",
            "loss: 1.316580  [    0/50000]\n",
            "loss: 1.203647  [12000/50000]\n",
            "loss: 1.179621  [24000/50000]\n",
            "loss: 1.090602  [36000/50000]\n",
            "loss: 1.257329  [48000/50000]\n",
            "Test Error: \n",
            " Accuracy: 55.9%, Avg loss: 2.498566 \n",
            "\n",
            "Epoch 9\n",
            "-------------------------------\n",
            "loss: 0.924984  [    0/50000]\n",
            "loss: 1.167834  [12000/50000]\n",
            "loss: 1.300637  [24000/50000]\n",
            "loss: 1.436947  [36000/50000]\n",
            "loss: 1.252442  [48000/50000]\n",
            "Test Error: \n",
            " Accuracy: 58.0%, Avg loss: 1.377267 \n",
            "\n",
            "Epoch 10\n",
            "-------------------------------\n",
            "loss: 0.932148  [    0/50000]\n",
            "loss: 1.084735  [12000/50000]\n",
            "loss: 1.990676  [24000/50000]\n",
            "loss: 1.486244  [36000/50000]\n",
            "loss: 0.693046  [48000/50000]\n",
            "Test Error: \n",
            " Accuracy: 58.4%, Avg loss: 1.378955 \n",
            "\n",
            "Done!\n"
          ]
        }
      ],
      "source": [
        "epochs = 10\n",
        "for t in range(epochs):\n",
        "    print(f\"Epoch {t+1}\\n-------------------------------\")\n",
        "    train(train_dataloader, model, loss_fn, optimizer)\n",
        "    test(test_dataloader, model, loss_fn)\n",
        "print(\"Done!\")"
      ]
    },
    {
      "cell_type": "code",
      "execution_count": null,
      "id": "d61d522e-7dbe-40a8-8737-6df2de524f71",
      "metadata": {
        "id": "d61d522e-7dbe-40a8-8737-6df2de524f71",
        "outputId": "3267771e-19d8-48b8-906e-340635190db0"
      },
      "outputs": [
        {
          "data": {
            "text/plain": [
              "<function matplotlib.pyplot.show(*args, **kw)>"
            ]
          },
          "execution_count": 43,
          "metadata": {},
          "output_type": "execute_result"
        },
        {
          "data": {
            "image/png": "[encoded data removed]",
            "text/plain": [
              "<Figure size 576x504 with 1 Axes>"
            ]
          },
          "metadata": {
            "needs_background": "light"
          },
          "output_type": "display_data"
        }
      ],
      "source": [
        "filter = model.conv1.weight.data.clone()\n",
        "visualizeTensor(filter)\n",
        "plt.axis('off')\n",
        "plt.ioff()\n",
        "plt.show"
      ]
    },
    {
      "cell_type": "markdown",
      "id": "1232bd2e-d9f9-4e58-bd89-81bc88caebad",
      "metadata": {
        "id": "1232bd2e-d9f9-4e58-bd89-81bc88caebad"
      },
      "source": [
        "# Hyperparameter Optimization"
      ]
    },
    {
      "cell_type": "markdown",
      "id": "e4bb1934-8e76-4bf2-a611-cd14639cfd43",
      "metadata": {
        "id": "e4bb1934-8e76-4bf2-a611-cd14639cfd43"
      },
      "source": [
        "### Make the model architecture configurable"
      ]
    },
    {
      "cell_type": "code",
      "execution_count": null,
      "id": "1cfd8823-cde3-47d8-aafd-72aad127c9ed",
      "metadata": {
        "id": "1cfd8823-cde3-47d8-aafd-72aad127c9ed"
      },
      "outputs": [],
      "source": [
        "class ConfigNet(nn.Module):\n",
        "  def __init__(self, l1=256, c1=48, c2=96, d1=0.1):\n",
        "    super().__init__()\n",
        "    self.d1 = d1\n",
        "    self.conv1 = nn.Conv2d(3, c1, 3)\n",
        "    self.conv2 = nn.Conv2d(c1, c1, 3)\n",
        "    self.conv3 = nn.Conv2d(c1, c2, 3)\n",
        "    self.conv4 = nn.Conv2d(c2, c2, 3, stride=2)\n",
        "    self.flat = nn.Flatten()\n",
        "    self.batch_norm = nn.BatchNorm1d(c2 * 144)\n",
        "    self.fc1 = nn.Linear(c2 * 144, l1)\n",
        "    self.fc2 = nn.Linear(l1, 10)\n",
        "\n",
        "  def forward(self, x):\n",
        "    x = nn.functional.relu(self.conv1(x))\n",
        "    x = nn.functional.relu(self.conv2(x))\n",
        "    x = nn.functional.dropout(x, self.d1)\n",
        "    x = nn.functional.relu(self.conv3(x))\n",
        "    x = nn.functional.relu(self.conv4(x))\n",
        "    x = nn.functional.dropout(x, 0.5)\n",
        "    x = self.flat(x)\n",
        "    x = nn.functional.relu(self.batch_norm(x))\n",
        "    x = nn.functional.relu(self.fc1(x))\n",
        "    x = self.fc2(x)\n",
        "    return x\n",
        "\n",
        "model = ConfigNet().to(device)"
      ]
    },
    {
      "cell_type": "markdown",
      "id": "d1638f45-88c6-4486-8b93-a5ec956dcec6",
      "metadata": {
        "id": "d1638f45-88c6-4486-8b93-a5ec956dcec6"
      },
      "source": [
        "### Image Augmentation"
      ]
    },
    {
      "cell_type": "code",
      "execution_count": null,
      "id": "09d9e518-9d4b-4010-adad-29bd2cc08ace",
      "metadata": {
        "colab": {
          "base_uri": "https://localhost:8080/",
          "height": 103,
          "referenced_widgets": [
            "025d372d1729406390bed85ff6c6c9b6",
            "039261ec883e4b8ab3729c26fe98c904",
            "bfa6f23ac5334b99aeafba5fa4d64251",
            "eac18d153658420e86565b32461d2bc8",
            "ea8688ab84fa49c09156239c93a49665",
            "0cd109987f6643d7b9af2ff2adeffa62",
            "308d8e5a524e4b94b0561bf8d3383784",
            "429f8410b2c842fbad8ba93d3336cc64",
            "1261f44f38ec4d79a341f3b8af2a4ea4",
            "4711f0a5c2e44f13bf765af3b93484c8",
            "b11315f0feed43b8a80f38d3393c5d80"
          ]
        },
        "id": "09d9e518-9d4b-4010-adad-29bd2cc08ace",
        "outputId": "27f9be25-ff09-4ce9-86f0-47fcce88ba99"
      },
      "outputs": [
        {
          "output_type": "stream",
          "name": "stdout",
          "text": [
            "Downloading https://www.cs.toronto.edu/~kriz/cifar-10-python.tar.gz to cifar/cifar-10-python.tar.gz\n"
          ]
        },
        {
          "output_type": "display_data",
          "data": {
            "text/plain": [
              "  0%|          | 0/170498071 [00:00<?, ?it/s]"
            ],
            "application/vnd.jupyter.widget-view+json": {
              "version_major": 2,
              "version_minor": 0,
              "model_id": "025d372d1729406390bed85ff6c6c9b6"
            }
          },
          "metadata": {}
        },
        {
          "output_type": "stream",
          "name": "stdout",
          "text": [
            "Extracting cifar/cifar-10-python.tar.gz to cifar\n",
            "Files already downloaded and verified\n"
          ]
        }
      ],
      "source": [
        "# Augment Images for the train set\n",
        "augmented = transforms.Compose([\n",
        "    transforms.RandomRotation(20),\n",
        "    transforms.ColorJitter(brightness=0.2, hue=0.1),\n",
        "    transforms.RandomHorizontalFlip(p=0.5),\n",
        "    transforms.ToTensor(),\n",
        "    transforms.Normalize((0.5, 0.5, 0.5), (0.5, 0.5, 0.5))\n",
        "])\n",
        "\n",
        "# Standard transformation for validation set\n",
        "transform = transforms.Compose([\n",
        "    transforms.ToTensor(),\n",
        "    transforms.Normalize((0.5, 0.5, 0.5), (0.5, 0.5, 0.5))\n",
        "])\n",
        "\n",
        "training_data = CIFAR10(root=\"cifar\",\n",
        "                        train = True,\n",
        "                        download = True,\n",
        "                        transform=augmented)\n",
        "\n",
        "test_data = CIFAR10(root = \"cifar\",\n",
        "                    train = False,\n",
        "                    download = True,\n",
        "                    transform = transform)"
      ]
    },
    {
      "cell_type": "markdown",
      "id": "891de239-0061-4390-a8cf-46304b699bab",
      "metadata": {
        "tags": [],
        "id": "891de239-0061-4390-a8cf-46304b699bab"
      },
      "source": [
        "### Define the Search Space for optimization"
      ]
    },
    {
      "cell_type": "code",
      "execution_count": null,
      "id": "923a1ff7-e48e-477d-bc1c-4ba920f2130e",
      "metadata": {
        "id": "923a1ff7-e48e-477d-bc1c-4ba920f2130e"
      },
      "outputs": [],
      "source": [
        "search_space = {\n",
        "    #'lr': [0.008, 0.005],\n",
        "    # 'batch_size': [256, 512],\n",
        "    # 'd1': [0.1, 0.2]\n",
        "    'c1': [48, 96],\n",
        "    'c2': [96, 192],\n",
        "    'l1': [256, 512],\n",
        "}"
      ]
    },
    {
      "cell_type": "code",
      "execution_count": null,
      "id": "e1b88d1e-db09-47e9-9acf-5c5984b04a70",
      "metadata": {
        "id": "e1b88d1e-db09-47e9-9acf-5c5984b04a70"
      },
      "outputs": [],
      "source": [
        "best_results = {\n",
        "    # 'lr': None,\n",
        "    # 'bsz': None,\n",
        "    # 'd1': None,\n",
        "    'c1': None,\n",
        "    'c2': None,\n",
        "    'l1': None,\n",
        "    'loss': None,\n",
        "    'acc': 0\n",
        "}"
      ]
    },
    {
      "cell_type": "code",
      "execution_count": null,
      "id": "Dpcsj4xCOjhM",
      "metadata": {
        "id": "Dpcsj4xCOjhM"
      },
      "outputs": [],
      "source": [
        "class EarlyStopping():\n",
        "    def __init__(self, tolerance=5, verbose=False, path=\"cifar-tune.pth\"):\n",
        "      self.tolerance = tolerance\n",
        "      self.counter = 0\n",
        "      self.early_stop = False\n",
        "      self.lowest_loss = None\n",
        "      self.verbose = verbose\n",
        "      self.path = path\n",
        "\n",
        "    def step(self, val_loss):\n",
        "      if (self.lowest_loss == None):\n",
        "        self.lowest_loss = val_loss\n",
        "        torch.save(model.state_dict(), self.path)\n",
        "      elif (val_loss < self.lowest_loss):\n",
        "        self.lowest_loss = val_loss\n",
        "        self.counter = 0\n",
        "        torch.save(model.state_dict(), self.path)\n",
        "      else:\n",
        "        if self.verbose:\n",
        "          print(\"Early stop counter: {}\".format(self.counter+1))\n",
        "        self.counter +=1\n",
        "        if self.counter >= self.tolerance:\n",
        "          self.early_stop = True\n",
        "          if self.verbose:\n",
        "            print('Early stopping executed.')"
      ]
    },
    {
      "cell_type": "code",
      "execution_count": null,
      "id": "7cd8efb3-00d1-4f18-a8d9-250bf3503bb0",
      "metadata": {
        "id": "7cd8efb3-00d1-4f18-a8d9-250bf3503bb0"
      },
      "outputs": [],
      "source": [
        "class HyperSearch():\n",
        "    def __init__(self, config, verbose=True):\n",
        "      self.config = config\n",
        "      self.verbose = verbose\n",
        "      self.report_list = []\n",
        "      self.best_results = { 'c1': None,\n",
        "                            'c2': None,\n",
        "                            'l1': None,\n",
        "                            'loss': None,\n",
        "                            'acc': 0\n",
        "                            # 'd1': None,\n",
        "                            # 'lr': None,\n",
        "                            # 'bsz': None,\n",
        "                          }\n",
        "\n",
        "    # Optimization Method\n",
        "    def optimize(self):\n",
        "        for l1 in self.config['l1']:\n",
        "            for c1 in self.config['c1']:\n",
        "                for c2 in self.config['c2']:\n",
        "                    early_stopping = EarlyStopping(tolerance=3, verbose=False, path=\"{}-{}-{}.pth\".format(c1, c2, l1))\n",
        "\n",
        "                    if self.verbose == True:\n",
        "                        print('Conv1: {} | Conv2: {} | Lin1: {}'.format(str(c1), str(c2), str(l1)))\n",
        "                    model = ConfigNet(l1=l1, c1=c1, c2=c2).to(device)\n",
        "\n",
        "                    loss_fn = nn.CrossEntropyLoss()\n",
        "                    optimizer = torch.optim.Adam(model.parameters(), lr=lrate)\n",
        "\n",
        "                    train_dataloader = DataLoader(training_data, batch_size=batch_sz, shuffle=True, num_workers=0)\n",
        "                    test_dataloader = DataLoader(test_data, batch_size=batch_sz, shuffle=True, num_workers=0)\n",
        "\n",
        "                    epochs = 10\n",
        "                    for t in range(epochs):\n",
        "                        if self.verbose == True:\n",
        "                            print(f\"Epoch {t+1}\\n-------------------------------\")\n",
        "                        train_loss = train(train_dataloader, model, loss_fn, optimizer, verbose=self.verbose)\n",
        "                        test_loss, test_acc = test(test_dataloader, model, loss_fn, verbose=self.verbose)\n",
        "\n",
        "                        # Early Stopping\n",
        "                        early_stopping.step(test_loss)\n",
        "                        if early_stopping.early_stop:\n",
        "                          break\n",
        "                    print(\"Done!\")\n",
        "                    self.append_to_report(test_acc, test_loss, c1, c2, l1)\n",
        "\n",
        "                    if self.best_results['loss'] == None or test_loss < self.best_results['loss']:\n",
        "                        if self.verbose == True:\n",
        "                            print(\"UPDATE: Best loss changed from {} to {}\".format(self.best_results['loss'], test_loss))\n",
        "                        self.best_results.update({\n",
        "                            'c1': c1,\n",
        "                            'c2': c2,\n",
        "                            'loss': test_loss,\n",
        "                            'l1': l1,\n",
        "                            'acc': test_acc\n",
        "                        })\n",
        "        self.report()\n",
        "\n",
        "    def report(self):\n",
        "        print(\"\"\"\n",
        "|-----------------------------------------------------------------------------------------------------|\n",
        "|                                                                                                     |\n",
        "|                              Report for hyperparameter optimization                                 |\n",
        "|                                                                                                     |\n",
        "|-----------------------------------------------------------------------------------------------------|\n",
        "|    RUN     |              PERFORMANCE             |                   CONFIGURATION                 |\n",
        "|------------|--------------------------------------|-------------------------------------------------|\"\"\")\n",
        "        for idx, item in enumerate(self.report_list):\n",
        "            \n",
        "            print(\"|   Run {:02d}   |  Accuracy: {:.2f}%   |   Loss: {:.2f}   |  Conv-1: {}  |  Conv-2: {:3}  |  Linear-1: {:>4}  |\".format(idx,\n",
        "                                                                                                                                       item[0]*100,\n",
        "                                                                                                                                       item[1],\n",
        "                                                                                                                                       item[2],\n",
        "                                                                                                                                       item[3],\n",
        "                                                                                                                                       item[4]))\n",
        "            print(\"|------------|---------------------|----------------|--------------|---------------|------------------|\")\n",
        "        print(\"\\nBest Results | Accuracy: {:.2f}%  |  Loss: {:.2f}  |  Conv-1: {}   |  Conv-2: {}  |  Linear-1: {:>4}  |\".format(self.best_results['acc']*100,\n",
        "                                                                                                                                              self.best_results['loss'],\n",
        "                                                                                                                                              self.best_results['c1'],\n",
        "                                                                                                                                              self.best_results['c2'],\n",
        "                                                                                                                                              self.best_results['l1']))\n",
        "\n",
        "    def append_to_report(self, acc, loss, c1, c2, l1):\n",
        "        list_set = (acc, loss, c1, c2, l1)\n",
        "        self.report_list.append(list_set)\n",
        "\n"
      ]
    },
    {
      "cell_type": "code",
      "execution_count": null,
      "id": "5b90ceae-ae0c-4965-8cdb-753d9f134d76",
      "metadata": {
        "colab": {
          "base_uri": "https://localhost:8080/"
        },
        "id": "5b90ceae-ae0c-4965-8cdb-753d9f134d76",
        "outputId": "9611efd9-ce10-4a37-a814-a1cec6b0897e",
        "tags": []
      },
      "outputs": [
        {
          "output_type": "stream",
          "name": "stdout",
          "text": [
            "Conv1: 48 | Conv2: 96 | Lin1: 256\n",
            "Epoch 1\n",
            "-------------------------------\n",
            "loss: 2.334770  [    0/50000]\n",
            "loss: 1.573388  [25600/50000]\n",
            "Test Error: \n",
            " Accuracy: 49.4%, Avg loss: 1.414770 \n",
            "\n",
            "Epoch 2\n",
            "-------------------------------\n",
            "loss: 1.441251  [    0/50000]\n",
            "loss: 1.192763  [25600/50000]\n",
            "Test Error: \n",
            " Accuracy: 54.8%, Avg loss: 1.286341 \n",
            "\n",
            "Epoch 3\n",
            "-------------------------------\n",
            "loss: 1.296272  [    0/50000]\n",
            "loss: 1.253879  [25600/50000]\n",
            "Test Error: \n",
            " Accuracy: 60.8%, Avg loss: 1.094024 \n",
            "\n",
            "Epoch 4\n",
            "-------------------------------\n",
            "loss: 1.214479  [    0/50000]\n",
            "loss: 1.085186  [25600/50000]\n",
            "Test Error: \n",
            " Accuracy: 61.3%, Avg loss: 1.092242 \n",
            "\n",
            "Epoch 5\n",
            "-------------------------------\n",
            "loss: 1.029082  [    0/50000]\n",
            "loss: 1.039972  [25600/50000]\n",
            "Test Error: \n",
            " Accuracy: 65.2%, Avg loss: 0.988008 \n",
            "\n",
            "Epoch 6\n",
            "-------------------------------\n",
            "loss: 1.082698  [    0/50000]\n",
            "loss: 1.038053  [25600/50000]\n",
            "Test Error: \n",
            " Accuracy: 65.0%, Avg loss: 0.987689 \n",
            "\n",
            "Epoch 7\n",
            "-------------------------------\n",
            "loss: 0.997165  [    0/50000]\n",
            "loss: 0.945849  [25600/50000]\n",
            "Test Error: \n",
            " Accuracy: 66.0%, Avg loss: 0.954767 \n",
            "\n",
            "Epoch 8\n",
            "-------------------------------\n",
            "loss: 0.946685  [    0/50000]\n",
            "loss: 0.871197  [25600/50000]\n",
            "Test Error: \n",
            " Accuracy: 68.0%, Avg loss: 0.916829 \n",
            "\n",
            "Epoch 9\n",
            "-------------------------------\n",
            "loss: 0.943819  [    0/50000]\n",
            "loss: 0.832398  [25600/50000]\n",
            "Test Error: \n",
            " Accuracy: 70.4%, Avg loss: 0.849571 \n",
            "\n",
            "Epoch 10\n",
            "-------------------------------\n",
            "loss: 0.898753  [    0/50000]\n",
            "loss: 0.879627  [25600/50000]\n",
            "Test Error: \n",
            " Accuracy: 71.2%, Avg loss: 0.836735 \n",
            "\n",
            "Done!\n",
            "UPDATE: Best loss changed from None to 0.8367349296808243\n",
            "Conv1: 48 | Conv2: 192 | Lin1: 256\n",
            "Epoch 1\n",
            "-------------------------------\n",
            "loss: 2.306491  [    0/50000]\n",
            "loss: 1.684822  [25600/50000]\n",
            "Test Error: \n",
            " Accuracy: 44.6%, Avg loss: 1.517455 \n",
            "\n",
            "Epoch 2\n",
            "-------------------------------\n",
            "loss: 1.445099  [    0/50000]\n",
            "loss: 1.348472  [25600/50000]\n",
            "Test Error: \n",
            " Accuracy: 52.9%, Avg loss: 1.305787 \n",
            "\n",
            "Epoch 3\n",
            "-------------------------------\n",
            "loss: 1.458716  [    0/50000]\n",
            "loss: 1.270944  [25600/50000]\n",
            "Test Error: \n",
            " Accuracy: 56.7%, Avg loss: 1.210868 \n",
            "\n",
            "Epoch 4\n",
            "-------------------------------\n",
            "loss: 1.155624  [    0/50000]\n",
            "loss: 1.245270  [25600/50000]\n",
            "Test Error: \n",
            " Accuracy: 61.2%, Avg loss: 1.092883 \n",
            "\n",
            "Epoch 5\n",
            "-------------------------------\n",
            "loss: 1.122330  [    0/50000]\n",
            "loss: 1.093161  [25600/50000]\n",
            "Test Error: \n",
            " Accuracy: 61.7%, Avg loss: 1.082102 \n",
            "\n",
            "Epoch 6\n",
            "-------------------------------\n",
            "loss: 1.127284  [    0/50000]\n",
            "loss: 1.035432  [25600/50000]\n",
            "Test Error: \n",
            " Accuracy: 63.3%, Avg loss: 1.035561 \n",
            "\n",
            "Epoch 7\n",
            "-------------------------------\n",
            "loss: 1.009151  [    0/50000]\n",
            "loss: 1.059388  [25600/50000]\n",
            "Test Error: \n",
            " Accuracy: 64.5%, Avg loss: 1.001535 \n",
            "\n",
            "Epoch 8\n",
            "-------------------------------\n",
            "loss: 1.043151  [    0/50000]\n",
            "loss: 1.016572  [25600/50000]\n",
            "Test Error: \n",
            " Accuracy: 65.3%, Avg loss: 0.976733 \n",
            "\n",
            "Epoch 9\n",
            "-------------------------------\n",
            "loss: 1.090068  [    0/50000]\n",
            "loss: 1.045443  [25600/50000]\n",
            "Test Error: \n",
            " Accuracy: 63.4%, Avg loss: 1.039990 \n",
            "\n",
            "Epoch 10\n",
            "-------------------------------\n",
            "loss: 1.022514  [    0/50000]\n",
            "loss: 1.089237  [25600/50000]\n",
            "Test Error: \n",
            " Accuracy: 64.6%, Avg loss: 1.001794 \n",
            "\n",
            "Done!\n",
            "Conv1: 96 | Conv2: 96 | Lin1: 256\n",
            "Epoch 1\n",
            "-------------------------------\n",
            "loss: 2.306904  [    0/50000]\n",
            "loss: 1.698134  [25600/50000]\n",
            "Test Error: \n",
            " Accuracy: 46.2%, Avg loss: 1.462300 \n",
            "\n",
            "Epoch 2\n",
            "-------------------------------\n",
            "loss: 1.464374  [    0/50000]\n",
            "loss: 1.309292  [25600/50000]\n",
            "Test Error: \n",
            " Accuracy: 51.7%, Avg loss: 1.348873 \n",
            "\n",
            "Epoch 3\n",
            "-------------------------------\n",
            "loss: 1.415800  [    0/50000]\n",
            "loss: 1.322968  [25600/50000]\n",
            "Test Error: \n",
            " Accuracy: 57.8%, Avg loss: 1.198626 \n",
            "\n",
            "Epoch 4\n",
            "-------------------------------\n",
            "loss: 1.092090  [    0/50000]\n",
            "loss: 1.167150  [25600/50000]\n",
            "Test Error: \n",
            " Accuracy: 60.0%, Avg loss: 1.122861 \n",
            "\n",
            "Epoch 5\n",
            "-------------------------------\n",
            "loss: 1.012255  [    0/50000]\n",
            "loss: 1.094865  [25600/50000]\n",
            "Test Error: \n",
            " Accuracy: 60.1%, Avg loss: 1.148913 \n",
            "\n",
            "Epoch 6\n",
            "-------------------------------\n",
            "loss: 1.041994  [    0/50000]\n",
            "loss: 0.949083  [25600/50000]\n",
            "Test Error: \n",
            " Accuracy: 65.5%, Avg loss: 0.985824 \n",
            "\n",
            "Epoch 7\n",
            "-------------------------------\n",
            "loss: 0.962572  [    0/50000]\n",
            "loss: 0.914728  [25600/50000]\n",
            "Test Error: \n",
            " Accuracy: 66.7%, Avg loss: 0.948583 \n",
            "\n",
            "Epoch 8\n",
            "-------------------------------\n",
            "loss: 0.952146  [    0/50000]\n",
            "loss: 0.888949  [25600/50000]\n",
            "Test Error: \n",
            " Accuracy: 68.7%, Avg loss: 0.882440 \n",
            "\n",
            "Epoch 9\n",
            "-------------------------------\n",
            "loss: 0.869948  [    0/50000]\n",
            "loss: 0.968193  [25600/50000]\n",
            "Test Error: \n",
            " Accuracy: 69.7%, Avg loss: 0.865541 \n",
            "\n",
            "Epoch 10\n",
            "-------------------------------\n",
            "loss: 0.884793  [    0/50000]\n",
            "loss: 0.832109  [25600/50000]\n",
            "Test Error: \n",
            " Accuracy: 69.8%, Avg loss: 0.845298 \n",
            "\n",
            "Done!\n",
            "Conv1: 96 | Conv2: 192 | Lin1: 256\n",
            "Epoch 1\n",
            "-------------------------------\n",
            "loss: 2.311441  [    0/50000]\n",
            "loss: 1.776004  [25600/50000]\n",
            "Test Error: \n",
            " Accuracy: 43.4%, Avg loss: 1.537377 \n",
            "\n",
            "Epoch 2\n",
            "-------------------------------\n",
            "loss: 1.565270  [    0/50000]\n",
            "loss: 1.509010  [25600/50000]\n",
            "Test Error: \n",
            " Accuracy: 49.3%, Avg loss: 1.439141 \n",
            "\n",
            "Epoch 3\n",
            "-------------------------------\n",
            "loss: 1.320167  [    0/50000]\n",
            "loss: 1.272610  [25600/50000]\n",
            "Test Error: \n",
            " Accuracy: 55.0%, Avg loss: 1.279028 \n",
            "\n",
            "Epoch 4\n",
            "-------------------------------\n",
            "loss: 1.213166  [    0/50000]\n",
            "loss: 1.274981  [25600/50000]\n",
            "Test Error: \n",
            " Accuracy: 57.8%, Avg loss: 1.185039 \n",
            "\n",
            "Epoch 5\n",
            "-------------------------------\n",
            "loss: 1.242553  [    0/50000]\n",
            "loss: 1.120644  [25600/50000]\n",
            "Test Error: \n",
            " Accuracy: 61.1%, Avg loss: 1.089516 \n",
            "\n",
            "Epoch 6\n",
            "-------------------------------\n",
            "loss: 1.155433  [    0/50000]\n",
            "loss: 1.162665  [25600/50000]\n",
            "Test Error: \n",
            " Accuracy: 63.6%, Avg loss: 1.030157 \n",
            "\n",
            "Epoch 7\n",
            "-------------------------------\n",
            "loss: 1.034729  [    0/50000]\n",
            "loss: 1.030157  [25600/50000]\n",
            "Test Error: \n",
            " Accuracy: 63.6%, Avg loss: 1.036082 \n",
            "\n",
            "Epoch 8\n",
            "-------------------------------\n",
            "loss: 0.961017  [    0/50000]\n",
            "loss: 0.966999  [25600/50000]\n",
            "Test Error: \n",
            " Accuracy: 64.6%, Avg loss: 0.986278 \n",
            "\n",
            "Epoch 9\n",
            "-------------------------------\n",
            "loss: 0.958616  [    0/50000]\n",
            "loss: 0.964369  [25600/50000]\n",
            "Test Error: \n",
            " Accuracy: 67.2%, Avg loss: 0.945975 \n",
            "\n",
            "Epoch 10\n",
            "-------------------------------\n",
            "loss: 1.076566  [    0/50000]\n",
            "loss: 0.940999  [25600/50000]\n",
            "Test Error: \n",
            " Accuracy: 68.6%, Avg loss: 0.882061 \n",
            "\n",
            "Done!\n",
            "Conv1: 48 | Conv2: 96 | Lin1: 512\n",
            "Epoch 1\n",
            "-------------------------------\n",
            "loss: 2.313455  [    0/50000]\n",
            "loss: 1.768732  [25600/50000]\n",
            "Test Error: \n",
            " Accuracy: 44.8%, Avg loss: 1.542255 \n",
            "\n",
            "Epoch 2\n",
            "-------------------------------\n",
            "loss: 1.546217  [    0/50000]\n",
            "loss: 1.436665  [25600/50000]\n",
            "Test Error: \n",
            " Accuracy: 50.2%, Avg loss: 1.368661 \n",
            "\n",
            "Epoch 3\n",
            "-------------------------------\n",
            "loss: 1.450143  [    0/50000]\n",
            "loss: 1.359311  [25600/50000]\n",
            "Test Error: \n",
            " Accuracy: 54.6%, Avg loss: 1.273991 \n",
            "\n",
            "Epoch 4\n",
            "-------------------------------\n",
            "loss: 1.309961  [    0/50000]\n",
            "loss: 1.338024  [25600/50000]\n",
            "Test Error: \n",
            " Accuracy: 56.6%, Avg loss: 1.220314 \n",
            "\n",
            "Epoch 5\n",
            "-------------------------------\n",
            "loss: 1.162107  [    0/50000]\n",
            "loss: 1.222245  [25600/50000]\n",
            "Test Error: \n",
            " Accuracy: 55.6%, Avg loss: 1.262214 \n",
            "\n",
            "Epoch 6\n",
            "-------------------------------\n",
            "loss: 1.115573  [    0/50000]\n",
            "loss: 1.193332  [25600/50000]\n",
            "Test Error: \n",
            " Accuracy: 58.6%, Avg loss: 1.169567 \n",
            "\n",
            "Epoch 7\n",
            "-------------------------------\n",
            "loss: 1.099190  [    0/50000]\n",
            "loss: 1.119232  [25600/50000]\n",
            "Test Error: \n",
            " Accuracy: 61.3%, Avg loss: 1.081487 \n",
            "\n",
            "Epoch 8\n",
            "-------------------------------\n",
            "loss: 1.201662  [    0/50000]\n",
            "loss: 1.053970  [25600/50000]\n",
            "Test Error: \n",
            " Accuracy: 62.7%, Avg loss: 1.042340 \n",
            "\n",
            "Epoch 9\n",
            "-------------------------------\n",
            "loss: 1.095624  [    0/50000]\n",
            "loss: 0.974021  [25600/50000]\n",
            "Test Error: \n",
            " Accuracy: 63.4%, Avg loss: 1.023693 \n",
            "\n",
            "Epoch 10\n",
            "-------------------------------\n",
            "loss: 1.003295  [    0/50000]\n",
            "loss: 1.046134  [25600/50000]\n",
            "Test Error: \n",
            " Accuracy: 63.8%, Avg loss: 1.032059 \n",
            "\n",
            "Done!\n",
            "Conv1: 48 | Conv2: 192 | Lin1: 512\n",
            "Epoch 1\n",
            "-------------------------------\n",
            "loss: 2.322985  [    0/50000]\n",
            "loss: 1.701751  [25600/50000]\n",
            "Test Error: \n",
            " Accuracy: 44.0%, Avg loss: 1.529032 \n",
            "\n",
            "Epoch 2\n",
            "-------------------------------\n",
            "loss: 1.634883  [    0/50000]\n",
            "loss: 1.431495  [25600/50000]\n",
            "Test Error: \n",
            " Accuracy: 47.6%, Avg loss: 1.433693 \n",
            "\n",
            "Epoch 3\n",
            "-------------------------------\n",
            "loss: 1.441276  [    0/50000]\n",
            "loss: 1.315595  [25600/50000]\n",
            "Test Error: \n",
            " Accuracy: 54.0%, Avg loss: 1.273893 \n",
            "\n",
            "Epoch 4\n",
            "-------------------------------\n",
            "loss: 1.362110  [    0/50000]\n",
            "loss: 1.303628  [25600/50000]\n",
            "Test Error: \n",
            " Accuracy: 59.0%, Avg loss: 1.161328 \n",
            "\n",
            "Epoch 5\n",
            "-------------------------------\n",
            "loss: 1.156270  [    0/50000]\n",
            "loss: 1.170079  [25600/50000]\n",
            "Test Error: \n",
            " Accuracy: 60.5%, Avg loss: 1.111101 \n",
            "\n",
            "Epoch 6\n",
            "-------------------------------\n",
            "loss: 1.148371  [    0/50000]\n",
            "loss: 1.141109  [25600/50000]\n",
            "Test Error: \n",
            " Accuracy: 62.1%, Avg loss: 1.070239 \n",
            "\n",
            "Epoch 7\n",
            "-------------------------------\n",
            "loss: 1.054979  [    0/50000]\n",
            "loss: 1.090643  [25600/50000]\n",
            "Test Error: \n",
            " Accuracy: 63.9%, Avg loss: 1.021794 \n",
            "\n",
            "Epoch 8\n",
            "-------------------------------\n",
            "loss: 1.031063  [    0/50000]\n",
            "loss: 1.039932  [25600/50000]\n",
            "Test Error: \n",
            " Accuracy: 64.3%, Avg loss: 1.024361 \n",
            "\n",
            "Epoch 9\n",
            "-------------------------------\n",
            "loss: 0.984789  [    0/50000]\n",
            "loss: 0.986428  [25600/50000]\n",
            "Test Error: \n",
            " Accuracy: 66.2%, Avg loss: 0.955443 \n",
            "\n",
            "Epoch 10\n",
            "-------------------------------\n",
            "loss: 0.964611  [    0/50000]\n",
            "loss: 0.947161  [25600/50000]\n",
            "Test Error: \n",
            " Accuracy: 66.9%, Avg loss: 0.937727 \n",
            "\n",
            "Done!\n",
            "Conv1: 96 | Conv2: 96 | Lin1: 512\n",
            "Epoch 1\n",
            "-------------------------------\n",
            "loss: 2.318786  [    0/50000]\n",
            "loss: 1.762082  [25600/50000]\n",
            "Test Error: \n",
            " Accuracy: 43.5%, Avg loss: 1.555463 \n",
            "\n",
            "Epoch 2\n",
            "-------------------------------\n",
            "loss: 1.580516  [    0/50000]\n",
            "loss: 1.449399  [25600/50000]\n",
            "Test Error: \n",
            " Accuracy: 51.5%, Avg loss: 1.370934 \n",
            "\n",
            "Epoch 3\n",
            "-------------------------------\n",
            "loss: 1.369534  [    0/50000]\n",
            "loss: 1.327456  [25600/50000]\n",
            "Test Error: \n",
            " Accuracy: 57.0%, Avg loss: 1.223902 \n",
            "\n",
            "Epoch 4\n",
            "-------------------------------\n",
            "loss: 1.320257  [    0/50000]\n",
            "loss: 1.305249  [25600/50000]\n",
            "Test Error: \n",
            " Accuracy: 57.7%, Avg loss: 1.188975 \n",
            "\n",
            "Epoch 5\n",
            "-------------------------------\n",
            "loss: 1.211485  [    0/50000]\n",
            "loss: 1.015625  [25600/50000]\n",
            "Test Error: \n",
            " Accuracy: 62.2%, Avg loss: 1.065232 \n",
            "\n",
            "Epoch 6\n",
            "-------------------------------\n",
            "loss: 1.116569  [    0/50000]\n",
            "loss: 1.139451  [25600/50000]\n",
            "Test Error: \n",
            " Accuracy: 60.2%, Avg loss: 1.137237 \n",
            "\n",
            "Epoch 7\n",
            "-------------------------------\n",
            "loss: 1.049494  [    0/50000]\n",
            "loss: 1.042736  [25600/50000]\n",
            "Test Error: \n",
            " Accuracy: 62.1%, Avg loss: 1.085635 \n",
            "\n",
            "Epoch 8\n",
            "-------------------------------\n",
            "loss: 1.020591  [    0/50000]\n",
            "loss: 1.027668  [25600/50000]\n",
            "Test Error: \n",
            " Accuracy: 66.4%, Avg loss: 0.957926 \n",
            "\n",
            "Epoch 9\n",
            "-------------------------------\n",
            "loss: 0.967721  [    0/50000]\n",
            "loss: 0.961592  [25600/50000]\n",
            "Test Error: \n",
            " Accuracy: 64.8%, Avg loss: 0.993528 \n",
            "\n",
            "Epoch 10\n",
            "-------------------------------\n",
            "loss: 0.905811  [    0/50000]\n",
            "loss: 0.952476  [25600/50000]\n",
            "Test Error: \n",
            " Accuracy: 66.6%, Avg loss: 0.947590 \n",
            "\n",
            "Done!\n",
            "Conv1: 96 | Conv2: 192 | Lin1: 512\n",
            "Epoch 1\n",
            "-------------------------------\n",
            "loss: 2.320687  [    0/50000]\n",
            "loss: 1.872571  [25600/50000]\n",
            "Test Error: \n",
            " Accuracy: 39.9%, Avg loss: 1.632495 \n",
            "\n",
            "Epoch 2\n",
            "-------------------------------\n",
            "loss: 1.643696  [    0/50000]\n",
            "loss: 1.518111  [25600/50000]\n",
            "Test Error: \n",
            " Accuracy: 42.7%, Avg loss: 1.584857 \n",
            "\n",
            "Epoch 3\n",
            "-------------------------------\n",
            "loss: 1.533523  [    0/50000]\n",
            "loss: 1.542520  [25600/50000]\n",
            "Test Error: \n",
            " Accuracy: 49.2%, Avg loss: 1.395229 \n",
            "\n",
            "Epoch 4\n",
            "-------------------------------\n",
            "loss: 1.444441  [    0/50000]\n",
            "loss: 1.478470  [25600/50000]\n",
            "Test Error: \n",
            " Accuracy: 49.3%, Avg loss: 1.413174 \n",
            "\n",
            "Epoch 5\n",
            "-------------------------------\n",
            "loss: 1.488348  [    0/50000]\n",
            "loss: 1.317434  [25600/50000]\n",
            "Test Error: \n",
            " Accuracy: 54.5%, Avg loss: 1.279541 \n",
            "\n",
            "Epoch 6\n",
            "-------------------------------\n",
            "loss: 1.262378  [    0/50000]\n",
            "loss: 1.302944  [25600/50000]\n",
            "Test Error: \n",
            " Accuracy: 55.4%, Avg loss: 1.252259 \n",
            "\n",
            "Epoch 7\n",
            "-------------------------------\n",
            "loss: 1.249005  [    0/50000]\n",
            "loss: 1.355735  [25600/50000]\n",
            "Test Error: \n",
            " Accuracy: 58.3%, Avg loss: 1.187611 \n",
            "\n",
            "Epoch 8\n",
            "-------------------------------\n",
            "loss: 1.311984  [    0/50000]\n",
            "loss: 1.218636  [25600/50000]\n",
            "Test Error: \n",
            " Accuracy: 59.1%, Avg loss: 1.151036 \n",
            "\n",
            "Epoch 9\n",
            "-------------------------------\n",
            "loss: 1.222611  [    0/50000]\n",
            "loss: 1.149581  [25600/50000]\n",
            "Test Error: \n",
            " Accuracy: 57.2%, Avg loss: 1.215024 \n",
            "\n",
            "Epoch 10\n",
            "-------------------------------\n",
            "loss: 1.216568  [    0/50000]\n",
            "loss: 1.184832  [25600/50000]\n",
            "Test Error: \n",
            " Accuracy: 59.2%, Avg loss: 1.141682 \n",
            "\n",
            "Done!\n",
            "\n",
            "|-----------------------------------------------------------------------------------------------------|\n",
            "|                                                                                                     |\n",
            "|                              Report for hyperparameter optimization                                 |\n",
            "|                                                                                                     |\n",
            "|-----------------------------------------------------------------------------------------------------|\n",
            "|    RUN     |              PERFORMANCE             |                   CONFIGURATION                 |\n",
            "|------------|--------------------------------------|-------------------------------------------------|\n",
            "|   Run 00   |  Accuracy: 71.24%   |   Loss: 0.84   |  Conv-1: 48  |  Conv-2:  96  |  Linear-1:  256  |\n",
            "|------------|---------------------|----------------|--------------|---------------|------------------|\n",
            "|   Run 01   |  Accuracy: 64.59%   |   Loss: 1.00   |  Conv-1: 48  |  Conv-2: 192  |  Linear-1:  256  |\n",
            "|------------|---------------------|----------------|--------------|---------------|------------------|\n",
            "|   Run 02   |  Accuracy: 69.81%   |   Loss: 0.85   |  Conv-1: 96  |  Conv-2:  96  |  Linear-1:  256  |\n",
            "|------------|---------------------|----------------|--------------|---------------|------------------|\n",
            "|   Run 03   |  Accuracy: 68.62%   |   Loss: 0.88   |  Conv-1: 96  |  Conv-2: 192  |  Linear-1:  256  |\n",
            "|------------|---------------------|----------------|--------------|---------------|------------------|\n",
            "|   Run 04   |  Accuracy: 63.80%   |   Loss: 1.03   |  Conv-1: 48  |  Conv-2:  96  |  Linear-1:  512  |\n",
            "|------------|---------------------|----------------|--------------|---------------|------------------|\n",
            "|   Run 05   |  Accuracy: 66.88%   |   Loss: 0.94   |  Conv-1: 48  |  Conv-2: 192  |  Linear-1:  512  |\n",
            "|------------|---------------------|----------------|--------------|---------------|------------------|\n",
            "|   Run 06   |  Accuracy: 66.65%   |   Loss: 0.95   |  Conv-1: 96  |  Conv-2:  96  |  Linear-1:  512  |\n",
            "|------------|---------------------|----------------|--------------|---------------|------------------|\n",
            "|   Run 07   |  Accuracy: 59.15%   |   Loss: 1.14   |  Conv-1: 96  |  Conv-2: 192  |  Linear-1:  512  |\n",
            "|------------|---------------------|----------------|--------------|---------------|------------------|\n",
            "\n",
            "Best Results | Accuracy: 71.24%  |  Loss: 0.84  |  Conv-1: 48   |  Conv-2: 96  |  Linear-1:  256  |\n",
            "CPU times: user 49min 32s, sys: 10.2 s, total: 49min 42s\n",
            "Wall time: 49min 44s\n"
          ]
        }
      ],
      "source": [
        "%%time\n",
        "\n",
        "lrate=0.001\n",
        "batch_sz=512\n",
        "\n",
        "hyper_search = HyperSearch(search_space, verbose=True)\n",
        "\n",
        "hyper_search.optimize()"
      ]
    },
    {
      "cell_type": "markdown",
      "id": "6a08bf4a-b973-484f-8f9f-efd6521ee603",
      "metadata": {
        "id": "6a08bf4a-b973-484f-8f9f-efd6521ee603"
      },
      "source": [
        "# Fine Tuning Best Model"
      ]
    },
    {
      "cell_type": "code",
      "execution_count": null,
      "id": "a1f5906f-4577-4af6-9979-9beecf467dce",
      "metadata": {
        "colab": {
          "base_uri": "https://localhost:8080/"
        },
        "id": "a1f5906f-4577-4af6-9979-9beecf467dce",
        "outputId": "ae09231a-ebe1-4f84-968e-1564eb627d83"
      },
      "outputs": [
        {
          "output_type": "execute_result",
          "data": {
            "text/plain": [
              "<All keys matched successfully>"
            ]
          },
          "metadata": {},
          "execution_count": 17
        }
      ],
      "source": [
        "model = ConfigNet()\n",
        "model.load_state_dict(torch.load(\"48-96-256.pth\"))"
      ]
    },
    {
      "cell_type": "code",
      "execution_count": null,
      "id": "02233c5c-a0c2-4333-9c1f-e34af49f820b",
      "metadata": {
        "id": "02233c5c-a0c2-4333-9c1f-e34af49f820b"
      },
      "outputs": [],
      "source": [
        "class ConfigNet(nn.Module):\n",
        "  def __init__(self, l1=256, c1=48, c2=96, d1=0.1):\n",
        "    super().__init__()\n",
        "    self.d1 = d1\n",
        "    self.conv1 = nn.Conv2d(3, c1, 3)\n",
        "    self.conv2 = nn.Conv2d(c1, c1, 3)\n",
        "    self.conv3 = nn.Conv2d(c1, c2, 3)\n",
        "    self.conv4 = nn.Conv2d(c2, c2, 3, stride=2)\n",
        "    self.flat = nn.Flatten()\n",
        "    self.batch_norm = nn.BatchNorm1d(c2 * 144)\n",
        "    self.fc1 = nn.Linear(c2 * 144, l1)\n",
        "    self.fc2 = nn.Linear(l1, 10)\n",
        "\n",
        "  def forward(self, x):\n",
        "    x = nn.functional.relu(self.conv1(x))\n",
        "    x = nn.functional.relu(self.conv2(x))\n",
        "    x = nn.functional.dropout(x, self.d1)\n",
        "    x = nn.functional.relu(self.conv3(x))\n",
        "    x = nn.functional.relu(self.conv4(x))\n",
        "    x = nn.functional.dropout(x, 0.5)\n",
        "    x = self.flat(x)\n",
        "    x = nn.functional.relu(self.batch_norm(x))\n",
        "    x = nn.functional.relu(self.fc1(x))\n",
        "    x = self.fc2(x)\n",
        "    return x\n",
        "\n",
        "model = ConfigNet().to(device)"
      ]
    },
    {
      "cell_type": "code",
      "execution_count": null,
      "id": "9d67cb3b-9370-4146-a0fd-016011a2ad12",
      "metadata": {
        "id": "9d67cb3b-9370-4146-a0fd-016011a2ad12"
      },
      "outputs": [],
      "source": [
        "model = ConfigNet(l1=256, c1=48, c2=96, d1=0.1).to(device)\n",
        "batch_sz = 512\n",
        "lrate = 0.0008"
      ]
    },
    {
      "cell_type": "code",
      "execution_count": null,
      "id": "d46bed5b-180d-4dd2-985c-92b62ea476fa",
      "metadata": {
        "tags": [],
        "colab": {
          "base_uri": "https://localhost:8080/"
        },
        "id": "d46bed5b-180d-4dd2-985c-92b62ea476fa",
        "outputId": "90a87749-48aa-487b-d931-dc25d2bb909d"
      },
      "outputs": [
        {
          "output_type": "stream",
          "name": "stdout",
          "text": [
            "Epoch 1\n",
            "-------------------------------\n",
            "loss: 2.314620  [    0/50000]\n",
            "loss: 1.527308  [25600/50000]\n",
            "Test Error: \n",
            " Accuracy: 48.8%, Avg loss: 1.443652 \n",
            "\n",
            "Epoch 2\n",
            "-------------------------------\n",
            "loss: 1.465110  [    0/50000]\n",
            "loss: 1.278300  [25600/50000]\n",
            "Test Error: \n",
            " Accuracy: 57.3%, Avg loss: 1.200827 \n",
            "\n",
            "Epoch 3\n",
            "-------------------------------\n",
            "loss: 1.232478  [    0/50000]\n",
            "loss: 1.220792  [25600/50000]\n",
            "Test Error: \n",
            " Accuracy: 60.5%, Avg loss: 1.114708 \n",
            "\n",
            "Epoch 4\n",
            "-------------------------------\n",
            "loss: 1.120637  [    0/50000]\n",
            "loss: 0.964464  [25600/50000]\n",
            "Test Error: \n",
            " Accuracy: 63.8%, Avg loss: 1.037358 \n",
            "\n",
            "Epoch 5\n",
            "-------------------------------\n",
            "loss: 1.020233  [    0/50000]\n",
            "loss: 1.068292  [25600/50000]\n",
            "Test Error: \n",
            " Accuracy: 64.4%, Avg loss: 1.021972 \n",
            "\n",
            "Epoch 6\n",
            "-------------------------------\n",
            "loss: 0.935966  [    0/50000]\n",
            "loss: 0.926343  [25600/50000]\n",
            "Test Error: \n",
            " Accuracy: 69.2%, Avg loss: 0.891543 \n",
            "\n",
            "Epoch 7\n",
            "-------------------------------\n",
            "loss: 0.912772  [    0/50000]\n",
            "loss: 0.902210  [25600/50000]\n",
            "Test Error: \n",
            " Accuracy: 70.2%, Avg loss: 0.862093 \n",
            "\n",
            "Epoch 8\n",
            "-------------------------------\n",
            "loss: 0.896766  [    0/50000]\n",
            "loss: 0.874839  [25600/50000]\n",
            "Test Error: \n",
            " Accuracy: 70.5%, Avg loss: 0.846242 \n",
            "\n",
            "Epoch 9\n",
            "-------------------------------\n",
            "loss: 0.804733  [    0/50000]\n",
            "loss: 0.909964  [25600/50000]\n",
            "Test Error: \n",
            " Accuracy: 70.9%, Avg loss: 0.832787 \n",
            "\n",
            "Epoch 10\n",
            "-------------------------------\n",
            "loss: 0.748641  [    0/50000]\n",
            "loss: 0.771785  [25600/50000]\n",
            "Test Error: \n",
            " Accuracy: 72.7%, Avg loss: 0.786353 \n",
            "\n",
            "Epoch 11\n",
            "-------------------------------\n",
            "loss: 0.742128  [    0/50000]\n",
            "loss: 0.875081  [25600/50000]\n",
            "Test Error: \n",
            " Accuracy: 73.6%, Avg loss: 0.760351 \n",
            "\n",
            "Epoch 12\n",
            "-------------------------------\n",
            "loss: 0.764464  [    0/50000]\n",
            "loss: 0.691634  [25600/50000]\n",
            "Test Error: \n",
            " Accuracy: 71.4%, Avg loss: 0.847526 \n",
            "\n",
            "Early stop counter: 1\n",
            "Epoch 13\n",
            "-------------------------------\n",
            "loss: 0.836534  [    0/50000]\n",
            "loss: 0.736433  [25600/50000]\n",
            "Test Error: \n",
            " Accuracy: 72.0%, Avg loss: 0.834060 \n",
            "\n",
            "Early stop counter: 2\n",
            "Epoch 14\n",
            "-------------------------------\n",
            "loss: 0.721136  [    0/50000]\n",
            "loss: 0.769918  [25600/50000]\n",
            "Test Error: \n",
            " Accuracy: 72.8%, Avg loss: 0.785375 \n",
            "\n",
            "Early stop counter: 3\n",
            "Epoch 15\n",
            "-------------------------------\n",
            "loss: 0.690170  [    0/50000]\n",
            "loss: 0.641668  [25600/50000]\n",
            "Test Error: \n",
            " Accuracy: 75.0%, Avg loss: 0.736364 \n",
            "\n",
            "Epoch 16\n",
            "-------------------------------\n",
            "loss: 0.658834  [    0/50000]\n",
            "loss: 0.679718  [25600/50000]\n",
            "Test Error: \n",
            " Accuracy: 74.1%, Avg loss: 0.756376 \n",
            "\n",
            "Early stop counter: 1\n",
            "Epoch 17\n",
            "-------------------------------\n",
            "loss: 0.692289  [    0/50000]\n",
            "loss: 0.698284  [25600/50000]\n",
            "Test Error: \n",
            " Accuracy: 74.6%, Avg loss: 0.728784 \n",
            "\n",
            "Epoch 18\n",
            "-------------------------------\n",
            "loss: 0.697479  [    0/50000]\n",
            "loss: 0.652316  [25600/50000]\n",
            "Test Error: \n",
            " Accuracy: 75.6%, Avg loss: 0.716117 \n",
            "\n",
            "Epoch 19\n",
            "-------------------------------\n",
            "loss: 0.693164  [    0/50000]\n",
            "loss: 0.665430  [25600/50000]\n",
            "Test Error: \n",
            " Accuracy: 75.5%, Avg loss: 0.718317 \n",
            "\n",
            "Early stop counter: 1\n",
            "Epoch 20\n",
            "-------------------------------\n",
            "loss: 0.688964  [    0/50000]\n",
            "loss: 0.655804  [25600/50000]\n",
            "Test Error: \n",
            " Accuracy: 75.4%, Avg loss: 0.725263 \n",
            "\n",
            "Early stop counter: 2\n",
            "Epoch 21\n",
            "-------------------------------\n",
            "loss: 0.568391  [    0/50000]\n",
            "loss: 0.582500  [25600/50000]\n",
            "Test Error: \n",
            " Accuracy: 74.6%, Avg loss: 0.739524 \n",
            "\n",
            "Early stop counter: 3\n",
            "Epoch 22\n",
            "-------------------------------\n",
            "loss: 0.661615  [    0/50000]\n",
            "loss: 0.672558  [25600/50000]\n",
            "Test Error: \n",
            " Accuracy: 75.7%, Avg loss: 0.733168 \n",
            "\n",
            "Early stop counter: 4\n",
            "Epoch 23\n",
            "-------------------------------\n",
            "loss: 0.632222  [    0/50000]\n",
            "loss: 0.594643  [25600/50000]\n",
            "Test Error: \n",
            " Accuracy: 75.6%, Avg loss: 0.742352 \n",
            "\n",
            "Early stop counter: 5\n",
            "Epoch 24\n",
            "-------------------------------\n",
            "loss: 0.640670  [    0/50000]\n",
            "loss: 0.629560  [25600/50000]\n",
            "Test Error: \n",
            " Accuracy: 76.7%, Avg loss: 0.695534 \n",
            "\n",
            "Epoch 25\n",
            "-------------------------------\n",
            "loss: 0.574670  [    0/50000]\n",
            "loss: 0.626094  [25600/50000]\n",
            "Test Error: \n",
            " Accuracy: 76.3%, Avg loss: 0.690639 \n",
            "\n",
            "Epoch 26\n",
            "-------------------------------\n",
            "loss: 0.566943  [    0/50000]\n",
            "loss: 0.585130  [25600/50000]\n",
            "Test Error: \n",
            " Accuracy: 76.0%, Avg loss: 0.711324 \n",
            "\n",
            "Early stop counter: 1\n",
            "Epoch 27\n",
            "-------------------------------\n",
            "loss: 0.600511  [    0/50000]\n",
            "loss: 0.548032  [25600/50000]\n",
            "Test Error: \n",
            " Accuracy: 77.1%, Avg loss: 0.686614 \n",
            "\n",
            "Epoch 28\n",
            "-------------------------------\n",
            "loss: 0.618138  [    0/50000]\n",
            "loss: 0.687568  [25600/50000]\n",
            "Test Error: \n",
            " Accuracy: 77.3%, Avg loss: 0.680050 \n",
            "\n",
            "Epoch 29\n",
            "-------------------------------\n",
            "loss: 0.590227  [    0/50000]\n",
            "loss: 0.594738  [25600/50000]\n",
            "Test Error: \n",
            " Accuracy: 76.8%, Avg loss: 0.685536 \n",
            "\n",
            "Early stop counter: 1\n",
            "Epoch 30\n",
            "-------------------------------\n",
            "loss: 0.622190  [    0/50000]\n",
            "loss: 0.550421  [25600/50000]\n",
            "Test Error: \n",
            " Accuracy: 77.8%, Avg loss: 0.680149 \n",
            "\n",
            "Early stop counter: 2\n",
            "Epoch 31\n",
            "-------------------------------\n",
            "loss: 0.554183  [    0/50000]\n",
            "loss: 0.593403  [25600/50000]\n",
            "Test Error: \n",
            " Accuracy: 76.8%, Avg loss: 0.700636 \n",
            "\n",
            "Early stop counter: 3\n",
            "Epoch 32\n",
            "-------------------------------\n",
            "loss: 0.560276  [    0/50000]\n",
            "loss: 0.580260  [25600/50000]\n",
            "Test Error: \n",
            " Accuracy: 77.0%, Avg loss: 0.694216 \n",
            "\n",
            "Early stop counter: 4\n",
            "Epoch 33\n",
            "-------------------------------\n",
            "loss: 0.550432  [    0/50000]\n",
            "loss: 0.515231  [25600/50000]\n",
            "Test Error: \n",
            " Accuracy: 77.2%, Avg loss: 0.699874 \n",
            "\n",
            "Early stop counter: 5\n",
            "Epoch 34\n",
            "-------------------------------\n",
            "loss: 0.642403  [    0/50000]\n",
            "loss: 0.549345  [25600/50000]\n",
            "Test Error: \n",
            " Accuracy: 78.1%, Avg loss: 0.659778 \n",
            "\n",
            "Epoch 35\n",
            "-------------------------------\n",
            "loss: 0.527566  [    0/50000]\n",
            "loss: 0.538240  [25600/50000]\n",
            "Test Error: \n",
            " Accuracy: 77.8%, Avg loss: 0.656085 \n",
            "\n",
            "Epoch 36\n",
            "-------------------------------\n",
            "loss: 0.526873  [    0/50000]\n",
            "loss: 0.534493  [25600/50000]\n",
            "Test Error: \n",
            " Accuracy: 77.1%, Avg loss: 0.683398 \n",
            "\n",
            "Early stop counter: 1\n",
            "Epoch 37\n",
            "-------------------------------\n",
            "loss: 0.591838  [    0/50000]\n",
            "loss: 0.639815  [25600/50000]\n",
            "Test Error: \n",
            " Accuracy: 77.3%, Avg loss: 0.687219 \n",
            "\n",
            "Early stop counter: 2\n",
            "Epoch 38\n",
            "-------------------------------\n",
            "loss: 0.537208  [    0/50000]\n",
            "loss: 0.553746  [25600/50000]\n",
            "Test Error: \n",
            " Accuracy: 77.7%, Avg loss: 0.687410 \n",
            "\n",
            "Early stop counter: 3\n",
            "Epoch 39\n",
            "-------------------------------\n",
            "loss: 0.505157  [    0/50000]\n",
            "loss: 0.601266  [25600/50000]\n",
            "Test Error: \n",
            " Accuracy: 76.1%, Avg loss: 0.716494 \n",
            "\n",
            "Early stop counter: 4\n",
            "Epoch 40\n",
            "-------------------------------\n",
            "loss: 0.473024  [    0/50000]\n",
            "loss: 0.499768  [25600/50000]\n",
            "Test Error: \n",
            " Accuracy: 78.1%, Avg loss: 0.662493 \n",
            "\n",
            "Early stop counter: 5\n",
            "Epoch 41\n",
            "-------------------------------\n",
            "loss: 0.607428  [    0/50000]\n",
            "loss: 0.583657  [25600/50000]\n",
            "Test Error: \n",
            " Accuracy: 77.2%, Avg loss: 0.704199 \n",
            "\n",
            "Early stop counter: 6\n",
            "Early stopping executed.\n",
            "Done!\n",
            "CPU times: user 25min 15s, sys: 4.74 s, total: 25min 20s\n",
            "Wall time: 25min 20s\n"
          ]
        }
      ],
      "source": [
        "%%time\n",
        "early_stopping = EarlyStopping(tolerance=6, verbose=True, path=\"cifar-optimized-test.pth\")\n",
        "\n",
        "loss_fn = nn.CrossEntropyLoss()\n",
        "optimizer = torch.optim.Adam(model.parameters(), lr=lrate)\n",
        "\n",
        "train_dataloader = DataLoader(training_data, batch_size=batch_sz, shuffle=True, num_workers=0)\n",
        "test_dataloader = DataLoader(test_data, batch_size=batch_sz, shuffle=True, num_workers=0)\n",
        "\n",
        "epochs = 50\n",
        "for t in range(epochs):\n",
        "    print(f\"Epoch {t+1}\\n-------------------------------\")\n",
        "    train_loss = train(train_dataloader, model, loss_fn, optimizer)\n",
        "    test_loss, test_acc = test(test_dataloader, model, loss_fn)\n",
        "\n",
        "    # Early Stopping\n",
        "    early_stopping.step(test_loss)\n",
        "    if early_stopping.early_stop:\n",
        "      break\n",
        "print(\"Done!\")\n"
      ]
    },
    {
      "cell_type": "markdown",
      "id": "d33bf7a2-f245-4718-baa1-702ffe509bb8",
      "metadata": {
        "id": "d33bf7a2-f245-4718-baa1-702ffe509bb8"
      },
      "source": [
        "# Model Evaluation"
      ]
    },
    {
      "cell_type": "code",
      "execution_count": null,
      "id": "371fac56-5a35-4281-aa7b-60deb53c99bc",
      "metadata": {
        "colab": {
          "base_uri": "https://localhost:8080/"
        },
        "id": "371fac56-5a35-4281-aa7b-60deb53c99bc",
        "outputId": "b4db0db3-414c-4365-a459-3358f28e06d6"
      },
      "outputs": [
        {
          "output_type": "execute_result",
          "data": {
            "text/plain": [
              "<All keys matched successfully>"
            ]
          },
          "metadata": {},
          "execution_count": 21
        }
      ],
      "source": [
        "model = ConfigNet(l1=256, c1=48, c2=96, d1=0.1).to(device)\n",
        "model.load_state_dict(torch.load(\"cifar-optimized-test.pth\"))"
      ]
    },
    {
      "cell_type": "code",
      "execution_count": null,
      "id": "317e4eaa-9497-45d6-9b34-7c7068254f23",
      "metadata": {
        "id": "317e4eaa-9497-45d6-9b34-7c7068254f23"
      },
      "outputs": [],
      "source": [
        "loss_fn = nn.CrossEntropyLoss()\n",
        "batch_sz = 512\n",
        "\n",
        "test_dataloader = DataLoader(test_data, batch_size=batch_sz, shuffle=False, num_workers=0)\n",
        "classes = test_data.classes"
      ]
    },
    {
      "cell_type": "code",
      "execution_count": null,
      "id": "c003287c-c1ba-4ce4-8621-1395de4ce153",
      "metadata": {
        "colab": {
          "base_uri": "https://localhost:8080/"
        },
        "id": "c003287c-c1ba-4ce4-8621-1395de4ce153",
        "outputId": "75721923-f60e-484b-f7c2-c4ed91fc79bf"
      },
      "outputs": [
        {
          "output_type": "stream",
          "name": "stdout",
          "text": [
            "Test Error: \n",
            " Accuracy: 77.6%, Avg loss: 0.677788 \n",
            "\n"
          ]
        }
      ],
      "source": [
        "test_loss, test_acc = test(test_dataloader, model, loss_fn)"
      ]
    },
    {
      "cell_type": "code",
      "execution_count": null,
      "id": "dfeac684-6e2f-4d98-87c0-6ace5229eb3d",
      "metadata": {
        "colab": {
          "base_uri": "https://localhost:8080/"
        },
        "id": "dfeac684-6e2f-4d98-87c0-6ace5229eb3d",
        "outputId": "2fb52bf7-1eee-4d50-e14b-b0a8ea9a37d3"
      },
      "outputs": [
        {
          "output_type": "stream",
          "name": "stdout",
          "text": [
            "Accuracy for class airplane: 85.3%\n",
            "Accuracy for class automobile: 82.8%\n",
            "Accuracy for class bird : 67.7%\n",
            "Accuracy for class cat  : 54.2%\n",
            "Accuracy for class deer : 65.4%\n",
            "Accuracy for class dog  : 57.1%\n",
            "Accuracy for class frog : 89.5%\n",
            "Accuracy for class horse: 74.1%\n",
            "Accuracy for class ship : 83.3%\n",
            "Accuracy for class truck: 87.5%\n"
          ]
        }
      ],
      "source": [
        "correct_pred = {classname: 0 for classname in classes}\n",
        "total_pred = {classname: 0  for classname in classes}\n",
        "\n",
        "with torch.no_grad():\n",
        "    for data in test_dataloader:\n",
        "        images, labels = data\n",
        "        outputs = model(images.to(device))\n",
        "        _, predictions = torch.max(outputs, 1)\n",
        "\n",
        "    for label,prediction in zip(labels, predictions):\n",
        "        if label == prediction:\n",
        "            correct_pred[classes[label]] += 1\n",
        "        total_pred[classes[label]] += 1\n",
        "\n",
        "for classname, correct_count in correct_pred.items():\n",
        "    accuracy = 100 * float(correct_count) / total_pred[classname]\n",
        "    print(f'Accuracy for class {classname:5s}: {accuracy:.1f}%')"
      ]
    },
    {
      "cell_type": "markdown",
      "id": "4205458e-ebe6-4a0c-8c8c-3cf512437ffd",
      "metadata": {
        "id": "4205458e-ebe6-4a0c-8c8c-3cf512437ffd"
      },
      "source": [
        "### Confusion Matrix"
      ]
    },
    {
      "cell_type": "code",
      "execution_count": null,
      "id": "3817ef09-91b9-4a52-bf3a-5c063e437fa6",
      "metadata": {
        "colab": {
          "base_uri": "https://localhost:8080/"
        },
        "id": "3817ef09-91b9-4a52-bf3a-5c063e437fa6",
        "outputId": "53db5369-baa0-4130-879f-09365e4ad40a"
      },
      "outputs": [
        {
          "output_type": "stream",
          "name": "stdout",
          "text": [
            "tensor([[786.,  23.,  52.,  17.,  17.,   1.,   4.,  10.,  54.,  36.],\n",
            "        [  9., 911.,   3.,   3.,   4.,   2.,   3.,   0.,  26.,  39.],\n",
            "        [ 48.,   1., 730.,  42.,  64.,  32.,  50.,  18.,  11.,   4.],\n",
            "        [ 14.,   8., 100., 639.,  44., 113.,  41.,  14.,  14.,  13.],\n",
            "        [ 18.,   2.,  83.,  51., 721.,  31.,  43.,  43.,   7.,   1.],\n",
            "        [  6.,   2.,  73., 176.,  29., 656.,  17.,  30.,   4.,   7.],\n",
            "        [  5.,   5.,  54.,  44.,  21.,   8., 854.,   3.,   5.,   1.],\n",
            "        [ 13.,   6.,  42.,  44.,  52.,  54.,   7., 765.,   6.,  11.],\n",
            "        [ 48.,  29.,  15.,  13.,   4.,   4.,   6.,   2., 853.,  26.],\n",
            "        [ 17.,  60.,   6.,  11.,   0.,   3.,   5.,   3.,  25., 870.]])\n"
          ]
        }
      ],
      "source": [
        "num_classes = 10\n",
        "\n",
        "confusion_matrix = torch.zeros(num_classes, num_classes)\n",
        "with torch.no_grad():\n",
        "    for i, (inputs, classes) in enumerate(test_dataloader):\n",
        "        inputs = inputs.to(device)\n",
        "        classes = classes.to(device)\n",
        "        outputs = model(inputs)\n",
        "        _, preds = torch.max(outputs, 1)\n",
        "        for t, p in zip(classes.view(-1), preds.view(-1)):\n",
        "                confusion_matrix[t.long(), p.long()] += 1\n",
        "\n",
        "\n",
        "print(confusion_matrix)"
      ]
    },
    {
      "cell_type": "code",
      "execution_count": null,
      "id": "40231ce8-9daa-44af-ae42-44182b80fe96",
      "metadata": {
        "colab": {
          "base_uri": "https://localhost:8080/",
          "height": 592
        },
        "id": "40231ce8-9daa-44af-ae42-44182b80fe96",
        "outputId": "bc15276d-f0d3-40e2-db93-976dbc127c22"
      },
      "outputs": [
        {
          "output_type": "display_data",
          "data": {
            "text/plain": [
              "<Figure size 1080x720 with 2 Axes>"
            ],
            "image/png": "[encoded data removed]"
          },
          "metadata": {
            "needs_background": "light"
          }
        }
      ],
      "source": [
        "plt.figure(figsize=(15,10))\n",
        "cf_dataframe = pd.DataFrame(np.array(confusion_matrix, dtype='int'), index=test_data.classes, columns=test_data.classes)\n",
        "heatmap = sns.heatmap(cf_dataframe, annot=True, fmt='g')"
      ]
    },
    {
      "cell_type": "markdown",
      "id": "54470d05-5a94-419c-9726-a0dfeb13875a",
      "metadata": {
        "id": "54470d05-5a94-419c-9726-a0dfeb13875a"
      },
      "source": [
        "### Recall per class Confusion Matrix"
      ]
    },
    {
      "cell_type": "code",
      "execution_count": null,
      "id": "b1c9c933-b86a-490b-93cc-d2e81dc0d996",
      "metadata": {
        "id": "b1c9c933-b86a-490b-93cc-d2e81dc0d996"
      },
      "outputs": [],
      "source": [
        "cf = np.array(confusion_matrix)\n",
        "norm_cf = cf / cf.astype(float).sum(axis=1)"
      ]
    },
    {
      "cell_type": "code",
      "execution_count": null,
      "id": "3cd222d1-188a-460e-b6f6-798248fb350a",
      "metadata": {
        "colab": {
          "base_uri": "https://localhost:8080/",
          "height": 592
        },
        "id": "3cd222d1-188a-460e-b6f6-798248fb350a",
        "outputId": "86a49e81-43b7-46b4-d0b1-8216faddb092"
      },
      "outputs": [
        {
          "output_type": "display_data",
          "data": {
            "text/plain": [
              "<Figure size 1080x720 with 2 Axes>"
            ],
            "image/png": "[encoded data removed]"
          },
          "metadata": {
            "needs_background": "light"
          }
        }
      ],
      "source": [
        "plt.figure(figsize=(15,10))\n",
        "cf_dataframe = pd.DataFrame(np.array(norm_cf, dtype='float64'), index=test_data.classes, columns=test_data.classes).astype(float)\n",
        "heatmap = sns.heatmap(cf_dataframe, annot=True)"
      ]
    },
    {
      "cell_type": "markdown",
      "id": "491a4dfe-bdc0-4c7a-b70a-457b036191e6",
      "metadata": {
        "id": "491a4dfe-bdc0-4c7a-b70a-457b036191e6"
      },
      "source": [
        "### Precision per class Confusion Matrix"
      ]
    },
    {
      "cell_type": "code",
      "execution_count": null,
      "id": "5047cc57-73a4-490d-953c-ccff72ddf3e1",
      "metadata": {
        "colab": {
          "base_uri": "https://localhost:8080/",
          "height": 592
        },
        "id": "5047cc57-73a4-490d-953c-ccff72ddf3e1",
        "outputId": "d1026ec8-5842-4272-9846-e80bc1eb6978"
      },
      "outputs": [
        {
          "output_type": "display_data",
          "data": {
            "text/plain": [
              "<Figure size 1080x720 with 2 Axes>"
            ],
            "image/png": "[encoded data removed]"
          },
          "metadata": {
            "needs_background": "light"
          }
        }
      ],
      "source": [
        "cf = np.array(confusion_matrix)\n",
        "norm_cf = cf / cf.astype(float).sum(axis=0)\n",
        "\n",
        "plt.figure(figsize=(15,10))\n",
        "cf_dataframe = pd.DataFrame(np.array(norm_cf, dtype='float64'), index=test_data.classes, columns=test_data.classes).astype(float)\n",
        "heatmap = sns.heatmap(cf_dataframe, annot=True)"
      ]
    },
    {
      "cell_type": "markdown",
      "id": "fb05a87e-601b-487c-954a-56792824b793",
      "metadata": {
        "id": "fb05a87e-601b-487c-954a-56792824b793"
      },
      "source": [
        "### Sample Model Predictions"
      ]
    },
    {
      "cell_type": "code",
      "execution_count": null,
      "id": "b2d95fcb-e3fe-46a9-892d-54b736fbf7bb",
      "metadata": {
        "id": "b2d95fcb-e3fe-46a9-892d-54b736fbf7bb"
      },
      "outputs": [],
      "source": [
        "def imshow(img):\n",
        "    img = img / 2 + .05 # revert normalization for viewing\n",
        "    npimg = img.numpy()\n",
        "    plt.imshow(np.transpose(npimg, (1,2,0)))\n",
        "    plt.show()"
      ]
    },
    {
      "cell_type": "code",
      "execution_count": null,
      "id": "e1990c66-9ebe-44c8-9e00-ef4ab63af05f",
      "metadata": {
        "id": "e1990c66-9ebe-44c8-9e00-ef4ab63af05f"
      },
      "outputs": [],
      "source": [
        "test_data = CIFAR10(root = \"cifar\",\n",
        "                    train = False,\n",
        "                    transform = transforms.ToTensor())\n",
        "classes = test_data.classes"
      ]
    },
    {
      "cell_type": "code",
      "execution_count": null,
      "id": "57528297-f6d1-4627-9c78-cda752d9af0f",
      "metadata": {
        "id": "57528297-f6d1-4627-9c78-cda752d9af0f"
      },
      "outputs": [],
      "source": [
        "def sample_predictions(n = 4):\n",
        "    test_dataloader = DataLoader(test_data, batch_size=n, shuffle=True, num_workers=0)\n",
        "    dataiter = iter(test_dataloader)\n",
        "    images, labels = dataiter.next()\n",
        "\n",
        "    outputs = model(images.to(device))\n",
        "    _, predicted = torch.max(outputs, 1)\n",
        "\n",
        "    imshow(make_grid(images))\n",
        "    print('[Ground Truth | Predicted]:\\n', ' '.join(f'[{classes[labels[j]]:5s} | {classes[predicted[j]]:5s}]\\n' for j in range(n)))"
      ]
    },
    {
      "cell_type": "code",
      "execution_count": null,
      "id": "d527e8b1-4061-44a2-9c33-8c9805f85874",
      "metadata": {
        "colab": {
          "base_uri": "https://localhost:8080/",
          "height": 245
        },
        "id": "d527e8b1-4061-44a2-9c33-8c9805f85874",
        "outputId": "29af4a07-f67e-40f0-ded6-f6e59c2e4d05"
      },
      "outputs": [
        {
          "output_type": "display_data",
          "data": {
            "text/plain": [
              "<Figure size 432x288 with 1 Axes>"
            ],
            "image/png": "[encoded data removed]"
          },
          "metadata": {
            "needs_background": "light"
          }
        },
        {
          "output_type": "stream",
          "name": "stdout",
          "text": [
            "[Ground Truth | Predicted]:\n",
            " [bird  | bird ]\n",
            " [horse | horse]\n",
            " [airplane | bird ]\n",
            " [dog   | dog  ]\n",
            "\n"
          ]
        }
      ],
      "source": [
        "sample_predictions(4)"
      ]
    },
    {
      "cell_type": "code",
      "execution_count": null,
      "id": "c92dccf2-b0a1-4ccf-8303-b49b7b4059bb",
      "metadata": {
        "colab": {
          "base_uri": "https://localhost:8080/",
          "height": 274
        },
        "id": "c92dccf2-b0a1-4ccf-8303-b49b7b4059bb",
        "outputId": "0b99f54a-9d65-4aac-d3b5-a78c1f0bc420"
      },
      "outputs": [
        {
          "output_type": "display_data",
          "data": {
            "text/plain": [
              "<Figure size 432x288 with 1 Axes>"
            ],
            "image/png": "[encoded data removed]"
          },
          "metadata": {
            "needs_background": "light"
          }
        },
        {
          "output_type": "stream",
          "name": "stdout",
          "text": [
            "[Ground Truth | Predicted]:\n",
            " [automobile | airplane]\n",
            " [deer  | airplane]\n",
            " [dog   | dog  ]\n",
            " [truck | airplane]\n",
            " [frog  | frog ]\n",
            " [truck | cat  ]\n",
            " [airplane | deer ]\n",
            " [frog  | frog ]\n",
            "\n"
          ]
        }
      ],
      "source": [
        "sample_predictions(8)"
      ]
    },
    {
      "cell_type": "markdown",
      "id": "95fa39a4-881b-4baf-8d2a-156b446b3385",
      "metadata": {
        "id": "95fa39a4-881b-4baf-8d2a-156b446b3385"
      },
      "source": [
        "# See Intermediate Outputs"
      ]
    },
    {
      "cell_type": "code",
      "execution_count": null,
      "id": "c5d95eed-7006-4613-8606-447e50f62aa2",
      "metadata": {
        "colab": {
          "base_uri": "https://localhost:8080/",
          "height": 284
        },
        "id": "c5d95eed-7006-4613-8606-447e50f62aa2",
        "outputId": "b71efc0c-a893-466f-8e84-11afceca06c8"
      },
      "outputs": [
        {
          "output_type": "display_data",
          "data": {
            "text/plain": [
              "<Figure size 432x288 with 1 Axes>"
            ],
            "image/png": "[encoded data removed]"
          },
          "metadata": {
            "needs_background": "light"
          }
        },
        {
          "output_type": "stream",
          "name": "stdout",
          "text": [
            "torch.Size([1, 3, 32, 32])\n"
          ]
        }
      ],
      "source": [
        "T = transforms.ToPILImage()\n",
        "img = T(test_data[1][0])\n",
        "plt.imshow(img)\n",
        "plt.show()\n",
        " \n",
        "transform = transforms.Compose([\n",
        "    transforms.ToPILImage(),\n",
        "    transforms.ToTensor(),\n",
        "])\n",
        "\n",
        "img=np.array(img)\n",
        "img=transform(img)\n",
        "img=img.unsqueeze(0)\n",
        "print(img.size())"
      ]
    },
    {
      "cell_type": "code",
      "execution_count": null,
      "id": "de28d360-9f57-4484-899d-9d6c5e4c6f44",
      "metadata": {
        "colab": {
          "base_uri": "https://localhost:8080/"
        },
        "id": "de28d360-9f57-4484-899d-9d6c5e4c6f44",
        "outputId": "f684c575-4f32-4ab7-e278-0b9d7ad84eea"
      },
      "outputs": [
        {
          "output_type": "stream",
          "name": "stdout",
          "text": [
            "4\n"
          ]
        }
      ],
      "source": [
        "no_of_layers=0\n",
        "conv_layers=[]\n",
        " \n",
        "model_children=list(model.children())\n",
        " \n",
        "for child in model_children:\n",
        "  if type(child)==nn.Conv2d:\n",
        "    no_of_layers+=1\n",
        "    conv_layers.append(child.to('cpu'))\n",
        "  elif type(child)==nn.Sequential:\n",
        "    for layer in child.children():\n",
        "      if type(layer)==nn.Conv2d:\n",
        "        no_of_layers+=1\n",
        "        conv_layers.append(layer)\n",
        "print(no_of_layers)"
      ]
    },
    {
      "cell_type": "code",
      "execution_count": null,
      "id": "c45d2e90-8d27-4a9c-802e-7a74510baa0c",
      "metadata": {
        "id": "c45d2e90-8d27-4a9c-802e-7a74510baa0c"
      },
      "outputs": [],
      "source": [
        "results = [conv_layers[0](img).to('cpu')]\n",
        "for i in range(1, len(conv_layers)):\n",
        "    results.append(conv_layers[i](results[-1]))\n",
        "outputs = results"
      ]
    },
    {
      "cell_type": "code",
      "execution_count": null,
      "id": "41655c36-fa86-4a55-b868-9503a8bcb83d",
      "metadata": {
        "colab": {
          "base_uri": "https://localhost:8080/",
          "height": 1000
        },
        "id": "41655c36-fa86-4a55-b868-9503a8bcb83d",
        "outputId": "d2791ed2-a5fc-4a82-e9de-993ef4dbd520"
      },
      "outputs": [
        {
          "output_type": "stream",
          "name": "stdout",
          "text": [
            "Layer  1\n"
          ]
        },
        {
          "output_type": "display_data",
          "data": {
            "text/plain": [
              "<Figure size 3600x720 with 16 Axes>"
            ],
            "image/png": "[encoded data removed]"
          },
          "metadata": {
            "needs_background": "light"
          }
        },
        {
          "output_type": "stream",
          "name": "stdout",
          "text": [
            "Layer  2\n"
          ]
        },
        {
          "output_type": "display_data",
          "data": {
            "text/plain": [
              "<Figure size 3600x720 with 16 Axes>"
            ],
            "image/png": "[encoded data removed]"
          },
          "metadata": {
            "needs_background": "light"
          }
        },
        {
          "output_type": "stream",
          "name": "stdout",
          "text": [
            "Layer  3\n"
          ]
        },
        {
          "output_type": "display_data",
          "data": {
            "text/plain": [
              "<Figure size 3600x720 with 16 Axes>"
            ],
            "image/png": "[encoded data removed]"
          },
          "metadata": {
            "needs_background": "light"
          }
        },
        {
          "output_type": "stream",
          "name": "stdout",
          "text": [
            "Layer  4\n"
          ]
        },
        {
          "output_type": "display_data",
          "data": {
            "text/plain": [
              "<Figure size 3600x720 with 16 Axes>"
            ],
            "image/png": "[encoded data removed]"
          },
          "metadata": {
            "needs_background": "light"
          }
        }
      ],
      "source": [
        "for num_layer in range(len(outputs)):\n",
        "    plt.figure(figsize=(50, 10))\n",
        "    layer_viz = outputs[num_layer][0, :, :, :]\n",
        "    layer_viz = layer_viz.data\n",
        "    print(\"Layer \",num_layer+1)\n",
        "    for i, filter in enumerate(layer_viz):\n",
        "        if i == 16: \n",
        "            break\n",
        "        plt.subplot(2, 8, i + 1)\n",
        "        plt.imshow(filter, cmap='gray')\n",
        "        plt.axis(\"off\")\n",
        "    plt.show()\n",
        "    plt.close()"
      ]
    },
    {
      "cell_type": "code",
      "execution_count": null,
      "id": "444f30aa-f86c-4a42-86b4-6c014e85c99c",
      "metadata": {
        "colab": {
          "base_uri": "https://localhost:8080/"
        },
        "id": "444f30aa-f86c-4a42-86b4-6c014e85c99c",
        "outputId": "86f153d0-b9f1-4f88-c74b-c6ad15f765bf"
      },
      "outputs": [
        {
          "output_type": "stream",
          "name": "stdout",
          "text": [
            "ship\n"
          ]
        }
      ],
      "source": [
        "mdl = model.to('cpu')\n",
        "mdl.eval()\n",
        "output = mdl(img)\n",
        "_, pred = torch.max(output, 1)\n",
        "print(classes[pred])"
      ]
    }
  ],
  "metadata": {
    "accelerator": "GPU",
    "colab": {
      "collapsed_sections": [],
      "provenance": []
    },
    "gpuClass": "standard",
    "kernelspec": {
      "display_name": "Python 3 (ipykernel)",
      "language": "python",
      "name": "python3"
    },
    "language_info": {
      "codemirror_mode": {
        "name": "ipython",
        "version": 3
      },
      "file_extension": ".py",
      "mimetype": "text/x-python",
      "name": "python",
      "nbconvert_exporter": "python",
      "pygments_lexer": "ipython3",
      "version": "3.7.0"
    },
    "widgets": {
      "application/vnd.jupyter.widget-state+json": {
        "025d372d1729406390bed85ff6c6c9b6": {
          "model_module": "@jupyter-widgets/controls",
          "model_name": "HBoxModel",
          "model_module_version": "1.5.0",
          "state": {
            "_dom_classes": [],
            "_model_module": "@jupyter-widgets/controls",
            "_model_module_version": "1.5.0",
            "_model_name": "HBoxModel",
            "_view_count": null,
            "_view_module": "@jupyter-widgets/controls",
            "_view_module_version": "1.5.0",
            "_view_name": "HBoxView",
            "box_style": "",
            "children": [
              "IPY_MODEL_039261ec883e4b8ab3729c26fe98c904",
              "IPY_MODEL_bfa6f23ac5334b99aeafba5fa4d64251",
              "IPY_MODEL_eac18d153658420e86565b32461d2bc8"
            ],
            "layout": "IPY_MODEL_ea8688ab84fa49c09156239c93a49665"
          }
        },
        "039261ec883e4b8ab3729c26fe98c904": {
          "model_module": "@jupyter-widgets/controls",
          "model_name": "HTMLModel",
          "model_module_version": "1.5.0",
          "state": {
            "_dom_classes": [],
            "_model_module": "@jupyter-widgets/controls",
            "_model_module_version": "1.5.0",
            "_model_name": "HTMLModel",
            "_view_count": null,
            "_view_module": "@jupyter-widgets/controls",
            "_view_module_version": "1.5.0",
            "_view_name": "HTMLView",
            "description": "",
            "description_tooltip": null,
            "layout": "IPY_MODEL_0cd109987f6643d7b9af2ff2adeffa62",
            "placeholder": "​",
            "style": "IPY_MODEL_308d8e5a524e4b94b0561bf8d3383784",
            "value": "100%"
          }
        },
        "bfa6f23ac5334b99aeafba5fa4d64251": {
          "model_module": "@jupyter-widgets/controls",
          "model_name": "FloatProgressModel",
          "model_module_version": "1.5.0",
          "state": {
            "_dom_classes": [],
            "_model_module": "@jupyter-widgets/controls",
            "_model_module_version": "1.5.0",
            "_model_name": "FloatProgressModel",
            "_view_count": null,
            "_view_module": "@jupyter-widgets/controls",
            "_view_module_version": "1.5.0",
            "_view_name": "ProgressView",
            "bar_style": "success",
            "description": "",
            "description_tooltip": null,
            "layout": "IPY_MODEL_429f8410b2c842fbad8ba93d3336cc64",
            "max": 170498071,
            "min": 0,
            "orientation": "horizontal",
            "style": "IPY_MODEL_1261f44f38ec4d79a341f3b8af2a4ea4",
            "value": 170498071
          }
        },
        "eac18d153658420e86565b32461d2bc8": {
          "model_module": "@jupyter-widgets/controls",
          "model_name": "HTMLModel",
          "model_module_version": "1.5.0",
          "state": {
            "_dom_classes": [],
            "_model_module": "@jupyter-widgets/controls",
            "_model_module_version": "1.5.0",
            "_model_name": "HTMLModel",
            "_view_count": null,
            "_view_module": "@jupyter-widgets/controls",
            "_view_module_version": "1.5.0",
            "_view_name": "HTMLView",
            "description": "",
            "description_tooltip": null,
            "layout": "IPY_MODEL_4711f0a5c2e44f13bf765af3b93484c8",
            "placeholder": "​",
            "style": "IPY_MODEL_b11315f0feed43b8a80f38d3393c5d80",
            "value": " 170498071/170498071 [00:02&lt;00:00, 71741576.79it/s]"
          }
        },
        "ea8688ab84fa49c09156239c93a49665": {
          "model_module": "@jupyter-widgets/base",
          "model_name": "LayoutModel",
          "model_module_version": "1.2.0",
          "state": {
            "_model_module": "@jupyter-widgets/base",
            "_model_module_version": "1.2.0",
            "_model_name": "LayoutModel",
            "_view_count": null,
            "_view_module": "@jupyter-widgets/base",
            "_view_module_version": "1.2.0",
            "_view_name": "LayoutView",
            "align_content": null,
            "align_items": null,
            "align_self": null,
            "border": null,
            "bottom": null,
            "display": null,
            "flex": null,
            "flex_flow": null,
            "grid_area": null,
            "grid_auto_columns": null,
            "grid_auto_flow": null,
            "grid_auto_rows": null,
            "grid_column": null,
            "grid_gap": null,
            "grid_row": null,
            "grid_template_areas": null,
            "grid_template_columns": null,
            "grid_template_rows": null,
            "height": null,
            "justify_content": null,
            "justify_items": null,
            "left": null,
            "margin": null,
            "max_height": null,
            "max_width": null,
            "min_height": null,
            "min_width": null,
            "object_fit": null,
            "object_position": null,
            "order": null,
            "overflow": null,
            "overflow_x": null,
            "overflow_y": null,
            "padding": null,
            "right": null,
            "top": null,
            "visibility": null,
            "width": null
          }
        },
        "0cd109987f6643d7b9af2ff2adeffa62": {
          "model_module": "@jupyter-widgets/base",
          "model_name": "LayoutModel",
          "model_module_version": "1.2.0",
          "state": {
            "_model_module": "@jupyter-widgets/base",
            "_model_module_version": "1.2.0",
            "_model_name": "LayoutModel",
            "_view_count": null,
            "_view_module": "@jupyter-widgets/base",
            "_view_module_version": "1.2.0",
            "_view_name": "LayoutView",
            "align_content": null,
            "align_items": null,
            "align_self": null,
            "border": null,
            "bottom": null,
            "display": null,
            "flex": null,
            "flex_flow": null,
            "grid_area": null,
            "grid_auto_columns": null,
            "grid_auto_flow": null,
            "grid_auto_rows": null,
            "grid_column": null,
            "grid_gap": null,
            "grid_row": null,
            "grid_template_areas": null,
            "grid_template_columns": null,
            "grid_template_rows": null,
            "height": null,
            "justify_content": null,
            "justify_items": null,
            "left": null,
            "margin": null,
            "max_height": null,
            "max_width": null,
            "min_height": null,
            "min_width": null,
            "object_fit": null,
            "object_position": null,
            "order": null,
            "overflow": null,
            "overflow_x": null,
            "overflow_y": null,
            "padding": null,
            "right": null,
            "top": null,
            "visibility": null,
            "width": null
          }
        },
        "308d8e5a524e4b94b0561bf8d3383784": {
          "model_module": "@jupyter-widgets/controls",
          "model_name": "DescriptionStyleModel",
          "model_module_version": "1.5.0",
          "state": {
            "_model_module": "@jupyter-widgets/controls",
            "_model_module_version": "1.5.0",
            "_model_name": "DescriptionStyleModel",
            "_view_count": null,
            "_view_module": "@jupyter-widgets/base",
            "_view_module_version": "1.2.0",
            "_view_name": "StyleView",
            "description_width": ""
          }
        },
        "429f8410b2c842fbad8ba93d3336cc64": {
          "model_module": "@jupyter-widgets/base",
          "model_name": "LayoutModel",
          "model_module_version": "1.2.0",
          "state": {
            "_model_module": "@jupyter-widgets/base",
            "_model_module_version": "1.2.0",
            "_model_name": "LayoutModel",
            "_view_count": null,
            "_view_module": "@jupyter-widgets/base",
            "_view_module_version": "1.2.0",
            "_view_name": "LayoutView",
            "align_content": null,
            "align_items": null,
            "align_self": null,
            "border": null,
            "bottom": null,
            "display": null,
            "flex": null,
            "flex_flow": null,
            "grid_area": null,
            "grid_auto_columns": null,
            "grid_auto_flow": null,
            "grid_auto_rows": null,
            "grid_column": null,
            "grid_gap": null,
            "grid_row": null,
            "grid_template_areas": null,
            "grid_template_columns": null,
            "grid_template_rows": null,
            "height": null,
            "justify_content": null,
            "justify_items": null,
            "left": null,
            "margin": null,
            "max_height": null,
            "max_width": null,
            "min_height": null,
            "min_width": null,
            "object_fit": null,
            "object_position": null,
            "order": null,
            "overflow": null,
            "overflow_x": null,
            "overflow_y": null,
            "padding": null,
            "right": null,
            "top": null,
            "visibility": null,
            "width": null
          }
        },
        "1261f44f38ec4d79a341f3b8af2a4ea4": {
          "model_module": "@jupyter-widgets/controls",
          "model_name": "ProgressStyleModel",
          "model_module_version": "1.5.0",
          "state": {
            "_model_module": "@jupyter-widgets/controls",
            "_model_module_version": "1.5.0",
            "_model_name": "ProgressStyleModel",
            "_view_count": null,
            "_view_module": "@jupyter-widgets/base",
            "_view_module_version": "1.2.0",
            "_view_name": "StyleView",
            "bar_color": null,
            "description_width": ""
          }
        },
        "4711f0a5c2e44f13bf765af3b93484c8": {
          "model_module": "@jupyter-widgets/base",
          "model_name": "LayoutModel",
          "model_module_version": "1.2.0",
          "state": {
            "_model_module": "@jupyter-widgets/base",
            "_model_module_version": "1.2.0",
            "_model_name": "LayoutModel",
            "_view_count": null,
            "_view_module": "@jupyter-widgets/base",
            "_view_module_version": "1.2.0",
            "_view_name": "LayoutView",
            "align_content": null,
            "align_items": null,
            "align_self": null,
            "border": null,
            "bottom": null,
            "display": null,
            "flex": null,
            "flex_flow": null,
            "grid_area": null,
            "grid_auto_columns": null,
            "grid_auto_flow": null,
            "grid_auto_rows": null,
            "grid_column": null,
            "grid_gap": null,
            "grid_row": null,
            "grid_template_areas": null,
            "grid_template_columns": null,
            "grid_template_rows": null,
            "height": null,
            "justify_content": null,
            "justify_items": null,
            "left": null,
            "margin": null,
            "max_height": null,
            "max_width": null,
            "min_height": null,
            "min_width": null,
            "object_fit": null,
            "object_position": null,
            "order": null,
            "overflow": null,
            "overflow_x": null,
            "overflow_y": null,
            "padding": null,
            "right": null,
            "top": null,
            "visibility": null,
            "width": null
          }
        },
        "b11315f0feed43b8a80f38d3393c5d80": {
          "model_module": "@jupyter-widgets/controls",
          "model_name": "DescriptionStyleModel",
          "model_module_version": "1.5.0",
          "state": {
            "_model_module": "@jupyter-widgets/controls",
            "_model_module_version": "1.5.0",
            "_model_name": "DescriptionStyleModel",
            "_view_count": null,
            "_view_module": "@jupyter-widgets/base",
            "_view_module_version": "1.2.0",
            "_view_name": "StyleView",
            "description_width": ""
          }
        },
        "780d822439f34fba967705fca54a5109": {
          "model_module": "@jupyter-widgets/controls",
          "model_name": "HBoxModel",
          "model_module_version": "1.5.0",
          "state": {
            "_dom_classes": [],
            "_model_module": "@jupyter-widgets/controls",
            "_model_module_version": "1.5.0",
            "_model_name": "HBoxModel",
            "_view_count": null,
            "_view_module": "@jupyter-widgets/controls",
            "_view_module_version": "1.5.0",
            "_view_name": "HBoxView",
            "box_style": "",
            "children": [
              "IPY_MODEL_950cd660e21f48088494a10a81fa201a",
              "IPY_MODEL_3895c272b2fa4b4e914d491265183e8f",
              "IPY_MODEL_aeae0d0d507c427e9a18ee08a8b9f692"
            ],
            "layout": "IPY_MODEL_736dac85ec2d4d7697308a7978380d6d"
          }
        },
        "950cd660e21f48088494a10a81fa201a": {
          "model_module": "@jupyter-widgets/controls",
          "model_name": "HTMLModel",
          "model_module_version": "1.5.0",
          "state": {
            "_dom_classes": [],
            "_model_module": "@jupyter-widgets/controls",
            "_model_module_version": "1.5.0",
            "_model_name": "HTMLModel",
            "_view_count": null,
            "_view_module": "@jupyter-widgets/controls",
            "_view_module_version": "1.5.0",
            "_view_name": "HTMLView",
            "description": "",
            "description_tooltip": null,
            "layout": "IPY_MODEL_16e661a0213f49e58235fb06999bc03c",
            "placeholder": "​",
            "style": "IPY_MODEL_821eaa26be7a464ebe6b145489dd402d",
            "value": "100%"
          }
        },
        "3895c272b2fa4b4e914d491265183e8f": {
          "model_module": "@jupyter-widgets/controls",
          "model_name": "FloatProgressModel",
          "model_module_version": "1.5.0",
          "state": {
            "_dom_classes": [],
            "_model_module": "@jupyter-widgets/controls",
            "_model_module_version": "1.5.0",
            "_model_name": "FloatProgressModel",
            "_view_count": null,
            "_view_module": "@jupyter-widgets/controls",
            "_view_module_version": "1.5.0",
            "_view_name": "ProgressView",
            "bar_style": "success",
            "description": "",
            "description_tooltip": null,
            "layout": "IPY_MODEL_b1c987267e1748dc94e1e8f870b4002a",
            "max": 170498071,
            "min": 0,
            "orientation": "horizontal",
            "style": "IPY_MODEL_6001db9b4db74a47b88aef73bc7cb602",
            "value": 170498071
          }
        },
        "aeae0d0d507c427e9a18ee08a8b9f692": {
          "model_module": "@jupyter-widgets/controls",
          "model_name": "HTMLModel",
          "model_module_version": "1.5.0",
          "state": {
            "_dom_classes": [],
            "_model_module": "@jupyter-widgets/controls",
            "_model_module_version": "1.5.0",
            "_model_name": "HTMLModel",
            "_view_count": null,
            "_view_module": "@jupyter-widgets/controls",
            "_view_module_version": "1.5.0",
            "_view_name": "HTMLView",
            "description": "",
            "description_tooltip": null,
            "layout": "IPY_MODEL_b161fb98c42043ecb18a6fb515cd92d1",
            "placeholder": "​",
            "style": "IPY_MODEL_934a88a35d9e4793b088fb109a6c3615",
            "value": " 170498071/170498071 [00:13&lt;00:00, 13856868.64it/s]"
          }
        },
        "736dac85ec2d4d7697308a7978380d6d": {
          "model_module": "@jupyter-widgets/base",
          "model_name": "LayoutModel",
          "model_module_version": "1.2.0",
          "state": {
            "_model_module": "@jupyter-widgets/base",
            "_model_module_version": "1.2.0",
            "_model_name": "LayoutModel",
            "_view_count": null,
            "_view_module": "@jupyter-widgets/base",
            "_view_module_version": "1.2.0",
            "_view_name": "LayoutView",
            "align_content": null,
            "align_items": null,
            "align_self": null,
            "border": null,
            "bottom": null,
            "display": null,
            "flex": null,
            "flex_flow": null,
            "grid_area": null,
            "grid_auto_columns": null,
            "grid_auto_flow": null,
            "grid_auto_rows": null,
            "grid_column": null,
            "grid_gap": null,
            "grid_row": null,
            "grid_template_areas": null,
            "grid_template_columns": null,
            "grid_template_rows": null,
            "height": null,
            "justify_content": null,
            "justify_items": null,
            "left": null,
            "margin": null,
            "max_height": null,
            "max_width": null,
            "min_height": null,
            "min_width": null,
            "object_fit": null,
            "object_position": null,
            "order": null,
            "overflow": null,
            "overflow_x": null,
            "overflow_y": null,
            "padding": null,
            "right": null,
            "top": null,
            "visibility": null,
            "width": null
          }
        },
        "16e661a0213f49e58235fb06999bc03c": {
          "model_module": "@jupyter-widgets/base",
          "model_name": "LayoutModel",
          "model_module_version": "1.2.0",
          "state": {
            "_model_module": "@jupyter-widgets/base",
            "_model_module_version": "1.2.0",
            "_model_name": "LayoutModel",
            "_view_count": null,
            "_view_module": "@jupyter-widgets/base",
            "_view_module_version": "1.2.0",
            "_view_name": "LayoutView",
            "align_content": null,
            "align_items": null,
            "align_self": null,
            "border": null,
            "bottom": null,
            "display": null,
            "flex": null,
            "flex_flow": null,
            "grid_area": null,
            "grid_auto_columns": null,
            "grid_auto_flow": null,
            "grid_auto_rows": null,
            "grid_column": null,
            "grid_gap": null,
            "grid_row": null,
            "grid_template_areas": null,
            "grid_template_columns": null,
            "grid_template_rows": null,
            "height": null,
            "justify_content": null,
            "justify_items": null,
            "left": null,
            "margin": null,
            "max_height": null,
            "max_width": null,
            "min_height": null,
            "min_width": null,
            "object_fit": null,
            "object_position": null,
            "order": null,
            "overflow": null,
            "overflow_x": null,
            "overflow_y": null,
            "padding": null,
            "right": null,
            "top": null,
            "visibility": null,
            "width": null
          }
        },
        "821eaa26be7a464ebe6b145489dd402d": {
          "model_module": "@jupyter-widgets/controls",
          "model_name": "DescriptionStyleModel",
          "model_module_version": "1.5.0",
          "state": {
            "_model_module": "@jupyter-widgets/controls",
            "_model_module_version": "1.5.0",
            "_model_name": "DescriptionStyleModel",
            "_view_count": null,
            "_view_module": "@jupyter-widgets/base",
            "_view_module_version": "1.2.0",
            "_view_name": "StyleView",
            "description_width": ""
          }
        },
        "b1c987267e1748dc94e1e8f870b4002a": {
          "model_module": "@jupyter-widgets/base",
          "model_name": "LayoutModel",
          "model_module_version": "1.2.0",
          "state": {
            "_model_module": "@jupyter-widgets/base",
            "_model_module_version": "1.2.0",
            "_model_name": "LayoutModel",
            "_view_count": null,
            "_view_module": "@jupyter-widgets/base",
            "_view_module_version": "1.2.0",
            "_view_name": "LayoutView",
            "align_content": null,
            "align_items": null,
            "align_self": null,
            "border": null,
            "bottom": null,
            "display": null,
            "flex": null,
            "flex_flow": null,
            "grid_area": null,
            "grid_auto_columns": null,
            "grid_auto_flow": null,
            "grid_auto_rows": null,
            "grid_column": null,
            "grid_gap": null,
            "grid_row": null,
            "grid_template_areas": null,
            "grid_template_columns": null,
            "grid_template_rows": null,
            "height": null,
            "justify_content": null,
            "justify_items": null,
            "left": null,
            "margin": null,
            "max_height": null,
            "max_width": null,
            "min_height": null,
            "min_width": null,
            "object_fit": null,
            "object_position": null,
            "order": null,
            "overflow": null,
            "overflow_x": null,
            "overflow_y": null,
            "padding": null,
            "right": null,
            "top": null,
            "visibility": null,
            "width": null
          }
        },
        "6001db9b4db74a47b88aef73bc7cb602": {
          "model_module": "@jupyter-widgets/controls",
          "model_name": "ProgressStyleModel",
          "model_module_version": "1.5.0",
          "state": {
            "_model_module": "@jupyter-widgets/controls",
            "_model_module_version": "1.5.0",
            "_model_name": "ProgressStyleModel",
            "_view_count": null,
            "_view_module": "@jupyter-widgets/base",
            "_view_module_version": "1.2.0",
            "_view_name": "StyleView",
            "bar_color": null,
            "description_width": ""
          }
        },
        "b161fb98c42043ecb18a6fb515cd92d1": {
          "model_module": "@jupyter-widgets/base",
          "model_name": "LayoutModel",
          "model_module_version": "1.2.0",
          "state": {
            "_model_module": "@jupyter-widgets/base",
            "_model_module_version": "1.2.0",
            "_model_name": "LayoutModel",
            "_view_count": null,
            "_view_module": "@jupyter-widgets/base",
            "_view_module_version": "1.2.0",
            "_view_name": "LayoutView",
            "align_content": null,
            "align_items": null,
            "align_self": null,
            "border": null,
            "bottom": null,
            "display": null,
            "flex": null,
            "flex_flow": null,
            "grid_area": null,
            "grid_auto_columns": null,
            "grid_auto_flow": null,
            "grid_auto_rows": null,
            "grid_column": null,
            "grid_gap": null,
            "grid_row": null,
            "grid_template_areas": null,
            "grid_template_columns": null,
            "grid_template_rows": null,
            "height": null,
            "justify_content": null,
            "justify_items": null,
            "left": null,
            "margin": null,
            "max_height": null,
            "max_width": null,
            "min_height": null,
            "min_width": null,
            "object_fit": null,
            "object_position": null,
            "order": null,
            "overflow": null,
            "overflow_x": null,
            "overflow_y": null,
            "padding": null,
            "right": null,
            "top": null,
            "visibility": null,
            "width": null
          }
        },
        "934a88a35d9e4793b088fb109a6c3615": {
          "model_module": "@jupyter-widgets/controls",
          "model_name": "DescriptionStyleModel",
          "model_module_version": "1.5.0",
          "state": {
            "_model_module": "@jupyter-widgets/controls",
            "_model_module_version": "1.5.0",
            "_model_name": "DescriptionStyleModel",
            "_view_count": null,
            "_view_module": "@jupyter-widgets/base",
            "_view_module_version": "1.2.0",
            "_view_name": "StyleView",
            "description_width": ""
          }
        }
      }
    }
  },
  "nbformat": 4,
  "nbformat_minor": 5
}